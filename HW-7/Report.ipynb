{
 "cells": [
  {
   "cell_type": "markdown",
   "id": "38cfc71edb2f9506",
   "metadata": {},
   "source": "# Seyed Mohammad Amin Atyabi - 830402014 - HW 7"
  },
  {
   "cell_type": "code",
   "id": "5900f1eb118e0250",
   "metadata": {
    "ExecuteTime": {
     "end_time": "2024-05-14T17:57:14.932575Z",
     "start_time": "2024-05-14T17:57:14.417058Z"
    }
   },
   "source": [
    "import json\n",
    "import pandas\n",
    "from scipy import io as sio\n",
    "\n",
    "\n",
    "def split_data(data: pandas.DataFrame):\n",
    "    splits = []\n",
    "    for i in range(5):\n",
    "        splits.append(data.iloc[i:i + 65, :])\n",
    "    return splits\n",
    "\n",
    "\n",
    "def train_model(data: pandas.DataFrame):\n",
    "    model = {}\n",
    "    P = data.loc[data['DEMOCRAT/LIBERAL'] == 1]\n",
    "    len_p = len(P) + 2\n",
    "    N = data.loc[data['DEMOCRAT/LIBERAL'] == 0]\n",
    "    len_n = len(N) + 2\n",
    "    for column in data.columns:\n",
    "        if column == 'DEMOCRAT/LIBERAL': continue\n",
    "        p_p = P.loc[P[column] == 1]\n",
    "        p_n = N.loc[N[column] == 0]\n",
    "        model[column] = {\n",
    "            '11': (len(p_p) + 1) / len_p,\n",
    "            '01': 1 - ((len(p_p) + 1) / len_p),\n",
    "            '10': (len(p_n) + 1) / len_n,\n",
    "            '00': 1 - ((len(p_n) + 1) / len_n)\n",
    "        }\n",
    "    return model\n",
    "\n",
    "\n",
    "def evaluate_model(model, data: pandas.DataFrame):\n",
    "    error = 0\n",
    "    for _, row in data.iterrows():\n",
    "        predict_1 = 1\n",
    "        predict_0 = 1\n",
    "        for column in data.columns:\n",
    "            if column == 'DEMOCRAT/LIBERAL': continue\n",
    "            predict_1 *= model[column][f'{row[column]}1']\n",
    "            predict_0 *= model[column][f'{row[column]}0']\n",
    "        prediction = 1 if predict_1 > predict_0 else 0\n",
    "        if prediction != row['DEMOCRAT/LIBERAL']: error += 1\n",
    "    return error\n",
    "\n",
    "\n",
    "def print_model(model):\n",
    "    print(json.dumps(model, indent=4))\n",
    "\n",
    "\n",
    "columns = [\n",
    "    'HANDICAPPED-INFANTS',\n",
    "    'WATER-PROJECT-COST-SHARING',\n",
    "    'ADOPTION-OF-THE-BUDGET-RESOLUTION',\n",
    "    'PHYSICIAN-FEE-FREEZE',\n",
    "    'EL-SALVADOR-AID',\n",
    "    'RELIGIOUS-GROUPS-IN-SCHOOL',\n",
    "    'ANTI-SATELLITE-TEST-BAN',\n",
    "    'AID-TO-NICARAGUAN-CONTRAS',\n",
    "    'MX-MISSILE',\n",
    "    'IMMIGRATION',\n",
    "    'SYNFUELS-CORP-CUTBACK',\n",
    "    'EDUCATION-SPENDING',\n",
    "    'SUPERFUND-RIGHT-TO-SUE',\n",
    "    'CRIME',\n",
    "    'DUTY-FREE-EXPORTS',\n",
    "    'EXPORT-ADMINISTRATION-ACT-SOUTH-AFRICA',\n",
    "    'DEMOCRAT/LIBERAL'\n",
    "]\n",
    "\n",
    "data = pandas.DataFrame(sio.loadmat('Data/vote.mat').get('Data'), columns=columns, dtype=int)\n",
    "\n",
    "splits = split_data(data)\n",
    "\n",
    "for i in range(len(splits)):\n",
    "    model = train_model(splits[i])\n",
    "    avg_error = 0\n",
    "    for j in range(len(splits)):\n",
    "        if j == i: continue\n",
    "        avg_error += evaluate_model(model, splits[j])\n",
    "    avg_error /= (len(splits) - 1)\n",
    "    print(avg_error)"
   ],
   "outputs": [
    {
     "name": "stdout",
     "output_type": "stream",
     "text": [
      "34.0\n",
      "34.0\n",
      "35.75\n",
      "35.75\n",
      "34.75\n"
     ]
    }
   ],
   "execution_count": 1
  }
 ],
 "metadata": {
  "kernelspec": {
   "display_name": "Python 3 (ipykernel)",
   "language": "python",
   "name": "python3"
  },
  "language_info": {
   "codemirror_mode": {
    "name": "ipython",
    "version": 3
   },
   "file_extension": ".py",
   "mimetype": "text/x-python",
   "name": "python",
   "nbconvert_exporter": "python",
   "pygments_lexer": "ipython3",
   "version": "3.12.0"
  }
 },
 "nbformat": 4,
 "nbformat_minor": 5
}
