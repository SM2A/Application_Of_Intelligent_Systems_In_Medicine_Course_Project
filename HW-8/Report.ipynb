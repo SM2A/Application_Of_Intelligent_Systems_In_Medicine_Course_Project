{
 "cells": [
  {
   "cell_type": "markdown",
   "id": "38cfc71edb2f9506",
   "metadata": {},
   "source": "# Seyed Mohammad Amin Atyabi - 830402014 - HW 8"
  },
  {
   "metadata": {},
   "cell_type": "code",
   "source": [
    "import math\n",
    "import statistics\n",
    "\n",
    "import pandas\n",
    "from scipy import io as sio\n",
    "\n",
    "\n",
    "def split_data(data: pandas.DataFrame):\n",
    "    splits = []\n",
    "    for i in range(5):\n",
    "        splits.append(data.iloc[i:i + 20, :])\n",
    "    return splits\n",
    "\n",
    "\n",
    "def predict_label(model, data, k):\n",
    "    error = 0\n",
    "    for _, d in data.iterrows():\n",
    "        distances = []\n",
    "        for _, m in model.iterrows():\n",
    "            distance = 0\n",
    "            for f in model.columns:\n",
    "                if f == 'SICKNESS': continue\n",
    "                distance += ((m[f] - d[f]) ** 2)\n",
    "            distance = math.sqrt(distance)\n",
    "            distances.append((distance, m['SICKNESS']))\n",
    "        distances = sorted(distances, key=lambda x: x[0])[0: k]\n",
    "        classes = [x[1] for x in distances]\n",
    "        predict = statistics.mode(classes)\n",
    "        if predict != d['SICKNESS']: error += 1\n",
    "    return error\n",
    "\n",
    "\n",
    "columns = [\n",
    "    'AGE'\n",
    "    'ON THYROXINE',\n",
    "    'TSH MEASURED',\n",
    "    'TSH',\n",
    "    'T3 MEASURED',\n",
    "    'T3',\n",
    "    'TT4 MEASURED',\n",
    "    'TT4',\n",
    "    'SICKNESS'\n",
    "]\n",
    "\n",
    "data = pandas.DataFrame(sio.loadmat('Data/Thyroid.mat').get('Data'), columns=columns, dtype=float)\n",
    "\n",
    "splits = split_data(data)\n",
    "\n",
    "e = predict_label(splits[0], splits[1], 3)"
   ],
   "id": "c26d837a0f6b0753",
   "outputs": [],
   "execution_count": null
  }
 ],
 "metadata": {
  "kernelspec": {
   "display_name": "Python 3 (ipykernel)",
   "language": "python",
   "name": "python3"
  },
  "language_info": {
   "codemirror_mode": {
    "name": "ipython",
    "version": 3
   },
   "file_extension": ".py",
   "mimetype": "text/x-python",
   "name": "python",
   "nbconvert_exporter": "python",
   "pygments_lexer": "ipython3",
   "version": "3.12.0"
  }
 },
 "nbformat": 4,
 "nbformat_minor": 5
}
