{
 "cells": [
  {
   "cell_type": "markdown",
   "id": "38cfc71edb2f9506",
   "metadata": {},
   "source": "# Seyed Mohammad Amin Atyabi - 830402014 - HW 8"
  },
  {
   "metadata": {},
   "cell_type": "markdown",
   "source": [
    "در این مسئله قصد داریم تا با استفاده از روش نزدیکترین همسایه، به تشخیص برچسب مجموعه داده ای که در اختیارمان قرار گرفته است اقدام کنیم.\n",
    "\n",
    "در روش نزدیکترین همسایه، مجموع فاصله اقلیدسی میان مقدار فیچر ها اندازه گرفته می شود و میان تعداد مشخص نمونه ای که کمترین فاصله را دارند بیشترین تکرار برچسب را به عنوان برچسب انتخاب میکنیم.\n",
    "\n",
    "برای این تمرین لازم است تا مجموعه داده را به 5 بخش که در هر کدام 20 عدد نمونه است تقسیم کنیم.\n",
    "\n",
    "در روش نزدیکترین همسابه مفهومی به معنی مدل وجود ندارد فلذا تمام عملیات تشخیص برچسب به صورت همزمان انجام میشود."
   ],
   "id": "5fbbe470d2223914"
  },
  {
   "metadata": {},
   "cell_type": "markdown",
   "source": [
    "در مسائل نزدیکترین همسابه، گاه لازم است مقادیر فیچر ها را نرمال کنیم تا مقایس همه مقادیر یکسان بوده و در اندازه گیزی فاصله تاثیر یکسانی داشته باشند.\n",
    "\n",
    "برای اینکار از رابطه زیر استفاده میکنیم. با استفاده از این رابطه میانگین صفر و انحراف معیار استاندارد برابر با یک میشود.\n",
    "\n",
    "$$ x' = \\frac{x - \\bar{x}}{\\sigma} $$"
   ],
   "id": "94edfb65b38e11ae"
  },
  {
   "metadata": {},
   "cell_type": "code",
   "source": [
    "import pandas\n",
    "from math import sqrt\n",
    "from statistics import mode\n",
    "from scipy import io as sio\n",
    "from matplotlib import pyplot as plt\n",
    "\n",
    "\n",
    "def split_data(data: pandas.DataFrame):\n",
    "    splits = []\n",
    "    for i in range(5):\n",
    "        splits.append(data.iloc[i:i + 20, :])\n",
    "    return splits\n",
    "\n",
    "\n",
    "def normalize_columns(data, columns):\n",
    "    for column in columns:\n",
    "        data[column] = (data[column] - data[column].mean()) / data[column].std()\n",
    "    return data\n",
    "\n",
    "\n",
    "def plot_k(data, normalize):\n",
    "    if normalize:\n",
    "        data = normalize_columns(data, ['AGE', 'TSH', 'T3', 'TT4'])\n",
    "    splits = split_data(data)\n",
    "\n",
    "    best_k = None\n",
    "    best_k_error = 0\n",
    "    k_list = [1, 2, 3, 4, 5, 6, 7, 8, 9, 10]\n",
    "    error_list = []\n",
    "\n",
    "    for k in k_list:\n",
    "        error = 0\n",
    "        for i in range(len(splits)):\n",
    "            model = None\n",
    "            for j in range(len(splits)):\n",
    "                if j == i: continue\n",
    "                model = pandas.concat([model, splits[j]])\n",
    "            error += predict_label(model, splits[i], k)\n",
    "        error /= len(splits)\n",
    "        error_list.append(error)\n",
    "        if best_k is None or error < best_k_error:\n",
    "            best_k = k\n",
    "            best_k_error = error\n",
    "\n",
    "    print(f'Best K value: {best_k}')\n",
    "\n",
    "    plt.plot(k_list, error_list, 'm')\n",
    "    plt.xticks(k_list)\n",
    "    plt.xlabel('K')\n",
    "    plt.ylabel('Average Error')\n",
    "    plt.grid()\n",
    "    plt.show()\n",
    "\n",
    "\n",
    "def predict_label(model, data, k):\n",
    "    error = 0\n",
    "    for _, d in data.iterrows():\n",
    "        distances = []\n",
    "        for _, m in model.iterrows():\n",
    "            distance = 0\n",
    "            for f in model.columns:\n",
    "                if f == 'SICKNESS': continue\n",
    "                distance += ((m[f] - d[f]) ** 2)\n",
    "            distance = sqrt(distance)\n",
    "            distances.append((distance, m['SICKNESS']))\n",
    "        distances = sorted(distances, key=lambda x: x[0])[0: k]\n",
    "        classes = [x[1] for x in distances]\n",
    "        predict = mode(classes)\n",
    "        if predict != d['SICKNESS']: error += 1\n",
    "    return error\n",
    "\n",
    "\n",
    "columns = [\n",
    "    'AGE',\n",
    "    'ON THYROXINE',\n",
    "    'TSH MEASURED',\n",
    "    'TSH',\n",
    "    'T3',\n",
    "    'TT4 MEASURED',\n",
    "    'TT4',\n",
    "    'SICKNESS'\n",
    "]\n",
    "\n",
    "data = pandas.DataFrame(sio.loadmat('Data/Thyroid.mat').get('Data'), columns=columns, dtype=float)"
   ],
   "id": "c26d837a0f6b0753",
   "outputs": [],
   "execution_count": null
  },
  {
   "metadata": {},
   "cell_type": "markdown",
   "source": [
    "در این بخش بدون نرمال کردن داده ها اقدام به استفاده از آن ها میکنیم.\n",
    "\n",
    "همانطور که مشاهده میشود، میانگین خطا به ازای مقادیر 1، 2 و 8 بدست می آید."
   ],
   "id": "3c2b0da9323f9c42"
  },
  {
   "metadata": {},
   "cell_type": "code",
   "source": "plot_k(data, False)",
   "id": "cb6c25f890e9fdee",
   "outputs": [],
   "execution_count": null
  },
  {
   "metadata": {},
   "cell_type": "markdown",
   "source": [
    "در این بخش با نرمال کردن داده ها اقدام به استفاده از آن ها میکنیم.\n",
    "\n",
    "همانطور که مشاهده میشود، میانگین خطا به ازای مقادیر 1 و 2 بدست می آید."
   ],
   "id": "c1c34f47599cad3d"
  },
  {
   "metadata": {},
   "cell_type": "code",
   "source": "plot_k(data, True)",
   "id": "65af5993df165f08",
   "outputs": [],
   "execution_count": null
  }
 ],
 "metadata": {
  "kernelspec": {
   "display_name": "Python 3 (ipykernel)",
   "language": "python",
   "name": "python3"
  },
  "language_info": {
   "codemirror_mode": {
    "name": "ipython",
    "version": 3
   },
   "file_extension": ".py",
   "mimetype": "text/x-python",
   "name": "python",
   "nbconvert_exporter": "python",
   "pygments_lexer": "ipython3",
   "version": "3.12.0"
  }
 },
 "nbformat": 4,
 "nbformat_minor": 5
}
