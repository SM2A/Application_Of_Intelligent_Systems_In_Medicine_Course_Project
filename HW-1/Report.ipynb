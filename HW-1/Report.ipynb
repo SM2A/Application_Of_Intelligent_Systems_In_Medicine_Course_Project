{
 "cells": [
  {
   "cell_type": "code",
   "execution_count": 14,
   "id": "55af20c6962042bc",
   "metadata": {
    "collapsed": true,
    "ExecuteTime": {
     "end_time": "2024-02-23T10:33:45.429789800Z",
     "start_time": "2024-02-23T10:33:45.392775800Z"
    }
   },
   "outputs": [
    {
     "data": {
      "text/plain": "dict_keys(['__header__', '__version__', '__globals__', 'NodeConnections', 'Heuristic'])"
     },
     "execution_count": 14,
     "metadata": {},
     "output_type": "execute_result"
    }
   ],
   "source": [
    "from scipy import io as sio\n",
    "\n",
    "node_connections = sio.loadmat('ConnectionMatrix.mat')\n",
    "node_connections.keys()"
   ]
  },
  {
   "cell_type": "code",
   "execution_count": 15,
   "outputs": [
    {
     "data": {
      "text/plain": "array([[0., 0., 0., ..., 0., 0., 0.],\n       [0., 0., 0., ..., 0., 0., 0.],\n       [0., 0., 0., ..., 0., 0., 0.],\n       ...,\n       [0., 0., 0., ..., 0., 0., 0.],\n       [0., 0., 0., ..., 0., 0., 0.],\n       [0., 0., 0., ..., 0., 0., 0.]])"
     },
     "execution_count": 15,
     "metadata": {},
     "output_type": "execute_result"
    }
   ],
   "source": [
    "connection = node_connections.get('NodeConnections').A\n",
    "connection"
   ],
   "metadata": {
    "collapsed": false,
    "ExecuteTime": {
     "end_time": "2024-02-23T10:33:45.441412200Z",
     "start_time": "2024-02-23T10:33:45.427790600Z"
    }
   },
   "id": "60dc76d2e41d39df"
  },
  {
   "cell_type": "code",
   "execution_count": 16,
   "outputs": [
    {
     "data": {
      "text/plain": "array([[  3,   2,   3,   2,   3,   3,   3,   3,   4,   3,   2,   3,   4,\n          3,   3,   3,   4,   4,   3,   0,   3,   2,   4,   3,   3,   3,\n          3,   2,   4,   3,   3,   2,   3,   3,   3,   3,   1,   5,   3,\n          2,   3,   2,   3,   3,   4,   2,   2,   4,   3,   3,   5,   4,\n          3,   5,   2,   3,   5,   3,   4,   4,   2,   4,   1,   3,   4,\n          2,   4,   3,   2,   2,   2,   4,   3,   4, 100,   3,   3,   3,\n          2,   2,   3,   2,   4,   3,   2,   3,   3,   2,   3,   4,   3,\n          3,   3,   4,   3,   1,   1,   4,   3,   3]], dtype=uint8)"
     },
     "execution_count": 16,
     "metadata": {},
     "output_type": "execute_result"
    }
   ],
   "source": [
    "heuristic = node_connections.get('Heuristic')\n",
    "heuristic"
   ],
   "metadata": {
    "collapsed": false,
    "ExecuteTime": {
     "end_time": "2024-02-23T10:33:45.448866900Z",
     "start_time": "2024-02-23T10:33:45.438411500Z"
    }
   },
   "id": "initial_id"
  },
  {
   "cell_type": "code",
   "execution_count": 17,
   "outputs": [],
   "source": [
    "ALGORITHM_BFS = 0\n",
    "ALGORITHM_DFS = 1\n",
    "ALGORITHM_BEST_FIRST = 2\n",
    "ALGORITHM_IFS = 3\n",
    "\n",
    "DEPTH_LIMIT = 99\n",
    "\n",
    "\n",
    "def backtrace(parent, start, goal, limit):\n",
    "    path = [goal]\n",
    "    while path[-1] != start:\n",
    "        path.append(parent[path[-1]])\n",
    "        if len(path) >= limit:\n",
    "            return None\n",
    "    path.reverse()\n",
    "    return path\n",
    "\n",
    "\n",
    "def search(adj_mat, start, goal, algorithm, use_visited, heuristic=None, queue=None, visited=None):\n",
    "    visited = set()\n",
    "    queue = [start]\n",
    "    if algorithm == ALGORITHM_BFS:\n",
    "        parent = {}\n",
    "        while queue:\n",
    "            for node in queue:\n",
    "                if use_visited:\n",
    "                    if node in visited:\n",
    "                        continue\n",
    "                    visited.add(node)\n",
    "                if node == goal:\n",
    "                    return backtrace(parent, start, goal, DEPTH_LIMIT)\n",
    "                else:\n",
    "                    if backtrace(parent, start, node, DEPTH_LIMIT) is None:\n",
    "                        return\n",
    "            new_queue = []\n",
    "            for node in queue:\n",
    "                for i in (adj_mat[node] == 1).nonzero()[-1]:\n",
    "                    new_queue.append(i)\n",
    "                    parent[i] = node\n",
    "            queue = new_queue"
   ],
   "metadata": {
    "collapsed": false,
    "ExecuteTime": {
     "end_time": "2024-02-23T10:33:45.487871700Z",
     "start_time": "2024-02-23T10:33:45.455866600Z"
    }
   },
   "id": "4a8a25591888237"
  },
  {
   "cell_type": "code",
   "execution_count": 18,
   "outputs": [
    {
     "name": "stdout",
     "output_type": "stream",
     "text": [
      "Route: [1, 27, 92, 75, 20]\n",
      "Execution time: 2253900 ns\n"
     ]
    }
   ],
   "source": [
    "import time\n",
    "\n",
    "begin = time.time_ns()\n",
    "print(f'Route: {search(connection, 1, 20, ALGORITHM_BFS, True)}')\n",
    "end = time.time_ns()\n",
    "print(f'Execution time: {end - begin} ns')"
   ],
   "metadata": {
    "collapsed": false,
    "ExecuteTime": {
     "end_time": "2024-02-23T10:33:45.496865900Z",
     "start_time": "2024-02-23T10:33:45.460876600Z"
    }
   },
   "id": "16a8e4741bec06ef"
  }
 ],
 "metadata": {
  "kernelspec": {
   "display_name": "Python 3",
   "language": "python",
   "name": "python3"
  },
  "language_info": {
   "codemirror_mode": {
    "name": "ipython",
    "version": 2
   },
   "file_extension": ".py",
   "mimetype": "text/x-python",
   "name": "python",
   "nbconvert_exporter": "python",
   "pygments_lexer": "ipython2",
   "version": "2.7.6"
  }
 },
 "nbformat": 4,
 "nbformat_minor": 5
}
