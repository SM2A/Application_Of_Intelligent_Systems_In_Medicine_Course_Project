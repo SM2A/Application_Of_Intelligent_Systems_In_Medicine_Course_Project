{
 "cells": [
  {
   "metadata": {},
   "cell_type": "markdown",
   "source": "# Seyed Mohammad Amin Atyabi - 830402014 - HW 3",
   "id": "38cfc71edb2f9506"
  },
  {
   "metadata": {
    "ExecuteTime": {
     "end_time": "2024-04-18T13:28:33.982500Z",
     "start_time": "2024-04-18T13:28:33.974646Z"
    }
   },
   "cell_type": "code",
   "source": [
    "def evaluate_expression(formula, value):\n",
    "    expression = formula\n",
    "    for v in value.axes[-1].values:\n",
    "        expression = expression.replace(f'_{str(v)}_', str(value[v]))\n",
    "    return eval(expression)\n",
    "\n",
    "def train_model(data):\n",
    "    P = data.loc[data['y'] == True]\n",
    "    h = 'False'\n",
    "    while len(P) != 0:\n",
    "        r = 'True'\n",
    "        r_features = set()\n",
    "        N = data.loc[data['y'] == False]\n",
    "        while len(N) != 0:\n",
    "            if set(data.axes[-1].values).issubset(r_features):\n",
    "                break\n",
    "            vj = {}\n",
    "            for f in data.axes[-1].values:\n",
    "                if f == 'y':\n",
    "                    continue\n",
    "                if f not in r_features:\n",
    "                    n_plus = 0\n",
    "                    for i, p in P.iterrows():\n",
    "                        if p['y'] == evaluate_expression(r + f' and _{f}_', p):\n",
    "                            n_plus += 1\n",
    "                    n_minus = 0\n",
    "                    for i, n in N.iterrows():\n",
    "                        if n['y'] == evaluate_expression(r + f' and _{f}_', n):\n",
    "                            n_minus += 1\n",
    "                    heuristic = n_plus / max(float(n_minus), 0.0001)\n",
    "                    vj[f] = heuristic\n",
    "            fj = sorted(vj.items(), key=lambda item: item[1])[-1][0]\n",
    "            r_features.add(fj)\n",
    "            n_drop = []\n",
    "            for i, n in N.iterrows():\n",
    "                if not n[fj]:\n",
    "                    n_drop.append(i)\n",
    "            if len(n_drop) > 0:\n",
    "                r = r + f' and _{fj}_'\n",
    "                N = N.drop(index=n_drop, inplace=False)\n",
    "        h = h + f' or ({r})'\n",
    "        covered = []\n",
    "        for i, p in P.iterrows():\n",
    "            if p['y'] == evaluate_expression(r, p):\n",
    "                covered.append(i)\n",
    "        if len(covered) == 0:\n",
    "            break\n",
    "        P = P.drop(index=covered, inplace=False)\n",
    "    return h"
   ],
   "id": "115c9534e22d904c",
   "outputs": [],
   "execution_count": 1
  },
  {
   "metadata": {
    "ExecuteTime": {
     "end_time": "2024-04-18T13:28:57.241979Z",
     "start_time": "2024-04-18T13:28:56.219897Z"
    }
   },
   "cell_type": "code",
   "source": [
    "import pandas\n",
    "from scipy import io as sio\n",
    "from sklearn.model_selection import train_test_split\n",
    "\n",
    "data = pandas.DataFrame(sio.loadmat('Data/DNFData.mat').get('Data'))\n",
    "\n",
    "columns = []\n",
    "for i in range(len(data.iloc[-1]) - 1):\n",
    "    columns.append(f'f{i + 1}')\n",
    "columns.append('y')\n",
    "\n",
    "data = data.astype(bool)\n",
    "data = pandas.DataFrame(data.values, columns=columns)\n",
    "\n",
    "train, test = train_test_split(data, test_size=0.5)"
   ],
   "id": "5900f1eb118e0250",
   "outputs": [],
   "execution_count": 2
  },
  {
   "metadata": {},
   "cell_type": "code",
   "outputs": [],
   "execution_count": null,
   "source": "",
   "id": "5f5fcbd05e1e3f42"
  }
 ],
 "metadata": {
  "kernelspec": {
   "display_name": "Python 3",
   "language": "python",
   "name": "python3"
  },
  "language_info": {
   "codemirror_mode": {
    "name": "ipython",
    "version": 2
   },
   "file_extension": ".py",
   "mimetype": "text/x-python",
   "name": "python",
   "nbconvert_exporter": "python",
   "pygments_lexer": "ipython2",
   "version": "2.7.6"
  }
 },
 "nbformat": 4,
 "nbformat_minor": 5
}
