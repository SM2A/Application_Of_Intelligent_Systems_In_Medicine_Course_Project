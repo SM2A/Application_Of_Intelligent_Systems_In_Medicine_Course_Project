{
 "cells": [
  {
   "metadata": {},
   "cell_type": "markdown",
   "source": "# Seyed Mohammad Amin Atyabi - 830402014 - HW 3",
   "id": "38cfc71edb2f9506"
  },
  {
   "metadata": {
    "ExecuteTime": {
     "end_time": "2024-04-18T14:21:17.869181Z",
     "start_time": "2024-04-18T14:21:17.860881Z"
    }
   },
   "cell_type": "code",
   "source": [
    "def evaluate_expression(formula, value):\n",
    "    expression = formula\n",
    "    for v in value.axes[-1].values:\n",
    "        expression = expression.replace(f'_{str(v)}_', str(value[v]))\n",
    "    return eval(expression)\n",
    "\n",
    "\n",
    "def train_model(data):\n",
    "    P = data.loc[data['y'] == True]\n",
    "    h = 'False'\n",
    "    while len(P) != 0:\n",
    "        r = 'True'\n",
    "        r_features = set()\n",
    "        N = data.loc[data['y'] == False]\n",
    "        while len(N) != 0:\n",
    "            if set(data.axes[-1].values).issubset(r_features):\n",
    "                break\n",
    "            vj = {}\n",
    "            for f in data.axes[-1].values:\n",
    "                if f == 'y':\n",
    "                    continue\n",
    "                if f not in r_features:\n",
    "                    n_plus = 0\n",
    "                    for i, p in P.iterrows():\n",
    "                        if p['y'] == evaluate_expression(r + f' and _{f}_', p):\n",
    "                            n_plus += 1\n",
    "                    n_minus = 0\n",
    "                    for i, n in N.iterrows():\n",
    "                        if n['y'] == evaluate_expression(r + f' and _{f}_', n):\n",
    "                            n_minus += 1\n",
    "                    heuristic = n_plus / max(float(n_minus), 0.0001)\n",
    "                    vj[f] = heuristic\n",
    "            fj = sorted(vj.items(), key=lambda item: item[1])[-1][0]\n",
    "            r_features.add(fj)\n",
    "            n_drop = []\n",
    "            for i, n in N.iterrows():\n",
    "                if not n[fj]:\n",
    "                    n_drop.append(i)\n",
    "            if len(n_drop) > 0:\n",
    "                r = r + f' and _{fj}_'\n",
    "                N = N.drop(index=n_drop, inplace=False)\n",
    "        h = h + f' or ({r})'\n",
    "        covered = []\n",
    "        for i, p in P.iterrows():\n",
    "            if p['y'] == evaluate_expression(r, p):\n",
    "                covered.append(i)\n",
    "        if len(covered) == 0:\n",
    "            break\n",
    "        P = P.drop(index=covered, inplace=False)\n",
    "    return h\n",
    "\n",
    "\n",
    "def evaluate_model(data, model):\n",
    "    count = 0\n",
    "    for _, d in data.iterrows():\n",
    "        res = (evaluate_expression(model, d) == d['y'])\n",
    "        if not res:\n",
    "            count += 1\n",
    "    return count\n",
    "\n",
    "\n",
    "def latex_expression(model):\n",
    "    return model.replace('False or ', '').replace('True and ', '') \\\n",
    "        .replace('_f', 'f_{').replace('_ ', '} ').replace('_)', '})') \\\n",
    "        .replace('and', r'\\wedge').replace('or', r'\\vee')"
   ],
   "id": "115c9534e22d904c",
   "outputs": [],
   "execution_count": 1
  },
  {
   "metadata": {
    "ExecuteTime": {
     "end_time": "2024-04-18T14:21:18.717772Z",
     "start_time": "2024-04-18T14:21:17.870186Z"
    }
   },
   "cell_type": "code",
   "source": [
    "import pandas\n",
    "from scipy import io as sio\n",
    "from sklearn.model_selection import train_test_split\n",
    "\n",
    "data = pandas.DataFrame(sio.loadmat('Data/DNFData.mat').get('Data'))\n",
    "\n",
    "columns = []\n",
    "for i in range(len(data.iloc[-1]) - 1):\n",
    "    columns.append(f'f{i + 1}')\n",
    "columns.append('y')\n",
    "\n",
    "data = data.astype(bool)\n",
    "data = pandas.DataFrame(data.values, columns=columns)\n",
    "\n",
    "train, test = train_test_split(data, test_size=0.5)"
   ],
   "id": "5900f1eb118e0250",
   "outputs": [],
   "execution_count": 2
  },
  {
   "metadata": {
    "jupyter": {
     "is_executing": true
    },
    "ExecuteTime": {
     "start_time": "2024-04-18T14:21:18.718588Z"
    }
   },
   "cell_type": "code",
   "source": [
    "from IPython.display import display, Markdown\n",
    "\n",
    "samples = list(range(20, 1001, 20))\n",
    "errors = []\n",
    "\n",
    "for s in samples:\n",
    "    model = train_model(train.sample(s))\n",
    "    error = evaluate_model(train, model)\n",
    "    errors.append(error)\n",
    "    display(Markdown(f\"\"\"\n",
    "    Number of Samples = {s}\n",
    "    Error = {error}\n",
    "    $$ {latex_expression(model)} $$\n",
    "    \"\"\"))\n",
    "    if error == 0:\n",
    "        display(Markdown(f\"\"\"\n",
    "        *Best model*\n",
    "        \n",
    "        {model}\n",
    "        \"\"\"))"
   ],
   "id": "5f5fcbd05e1e3f42",
   "outputs": [
    {
     "data": {
      "text/plain": [
       "<IPython.core.display.Markdown object>"
      ],
      "text/markdown": "\n    Number of Samples = 20\n    Error = 46\n    $$ (f_{58} \\wedge f_{30} \\wedge f_{29} \\wedge f_{19} \\wedge f_{21} \\wedge f_{42} \\wedge f_{6} \\wedge f_{92} \\wedge f_{94} \\wedge f_{99} \\wedge f_{100}) $$\n    "
     },
     "metadata": {},
     "output_type": "display_data"
    },
    {
     "data": {
      "text/plain": [
       "<IPython.core.display.Markdown object>"
      ],
      "text/markdown": "\n    Number of Samples = 40\n    Error = 46\n    $$ (f_{94} \\wedge f_{84} \\wedge f_{59} \\wedge f_{99} \\wedge f_{71} \\wedge f_{74} \\wedge f_{96} \\wedge f_{97} \\wedge f_{87} \\wedge f_{95} \\wedge f_{100}) $$\n    "
     },
     "metadata": {},
     "output_type": "display_data"
    },
    {
     "data": {
      "text/plain": [
       "<IPython.core.display.Markdown object>"
      ],
      "text/markdown": "\n    Number of Samples = 60\n    Error = 44\n    $$ (f_{71} \\wedge f_{4} \\wedge f_{59} \\wedge f_{66} \\wedge f_{94} \\wedge f_{51} \\wedge f_{96} \\wedge f_{97} \\wedge f_{90} \\wedge f_{84} \\wedge f_{98}) \\vee (f_{76} \\wedge f_{71} \\wedge f_{70} \\wedge f_{63} \\wedge f_{97} \\wedge f_{66} \\wedge f_{53} \\wedge f_{75} \\wedge f_{95} \\wedge f_{100} \\wedge f_{91} \\wedge f_{99}) \\vee (f_{76} \\wedge f_{71} \\wedge f_{70} \\wedge f_{63} \\wedge f_{23} \\wedge f_{97} \\wedge f_{66} \\wedge f_{96} \\wedge f_{89} \\wedge f_{88} \\wedge f_{99} \\wedge f_{98}) $$\n    "
     },
     "metadata": {},
     "output_type": "display_data"
    },
    {
     "data": {
      "text/plain": [
       "<IPython.core.display.Markdown object>"
      ],
      "text/markdown": "\n    Number of Samples = 80\n    Error = 42\n    $$ (f_{20} \\wedge f_{16} \\wedge f_{39} \\wedge f_{62} \\wedge f_{96} \\wedge f_{95} \\wedge f_{83} \\wedge f_{70} \\wedge f_{67} \\wedge f_{69} \\wedge f_{93} \\wedge f_{91} \\wedge f_{90}) \\vee (f_{20} \\wedge f_{16} \\wedge f_{39} \\wedge f_{11} \\wedge f_{62} \\wedge f_{100} \\wedge f_{96} \\wedge f_{71} \\wedge f_{28} \\wedge f_{95} \\wedge f_{98} \\wedge f_{90} \\wedge f_{99}) \\vee (f_{20} \\wedge f_{16} \\wedge f_{41} \\wedge f_{37} \\wedge f_{77} \\wedge f_{83} \\wedge f_{79} \\wedge f_{92} \\wedge f_{99} \\wedge f_{86} \\wedge f_{97} \\wedge f_{94}) \\vee (f_{30} \\wedge f_{63} \\wedge f_{14} \\wedge f_{19} \\wedge f_{64} \\wedge f_{51} \\wedge f_{47} \\wedge f_{6} \\wedge f_{91} \\wedge f_{92} \\wedge f_{98} \\wedge f_{93} \\wedge f_{82}) $$\n    "
     },
     "metadata": {},
     "output_type": "display_data"
    },
    {
     "data": {
      "text/plain": [
       "<IPython.core.display.Markdown object>"
      ],
      "text/markdown": "\n    Number of Samples = 100\n    Error = 43\n    $$ (f_{77} \\wedge f_{1} \\wedge f_{68} \\wedge f_{93} \\wedge f_{76} \\wedge f_{87} \\wedge f_{16} \\wedge f_{89} \\wedge f_{55} \\wedge f_{94} \\wedge f_{40} \\wedge f_{70} \\wedge f_{99} \\wedge f_{85}) \\vee (f_{20} \\wedge f_{14} \\wedge f_{39} \\wedge f_{64} \\wedge f_{65} \\wedge f_{68} \\wedge f_{43} \\wedge f_{91} \\wedge f_{94} \\wedge f_{98} \\wedge f_{97} \\wedge f_{100}) \\vee (f_{87} \\wedge f_{76} \\wedge f_{53} \\wedge f_{63} \\wedge f_{93} \\wedge f_{77} \\wedge f_{71} \\wedge f_{1} \\wedge f_{31} \\wedge f_{27} \\wedge f_{96} \\wedge f_{74} \\wedge f_{86} \\wedge f_{80}) $$\n    "
     },
     "metadata": {},
     "output_type": "display_data"
    },
    {
     "data": {
      "text/plain": [
       "<IPython.core.display.Markdown object>"
      ],
      "text/markdown": "\n    Number of Samples = 120\n    Error = 43\n    $$ (f_{96} \\wedge f_{97} \\wedge f_{90} \\wedge f_{12} \\wedge f_{70} \\wedge f_{41} \\wedge f_{2} \\wedge f_{34} \\wedge f_{30} \\wedge f_{52} \\wedge f_{28} \\wedge f_{93} \\wedge f_{94} \\wedge f_{88} \\wedge f_{98}) \\vee (f_{96} \\wedge f_{99} \\wedge f_{80} \\wedge f_{72} \\wedge f_{60} \\wedge f_{58} \\wedge f_{71} \\wedge f_{98} \\wedge f_{81} \\wedge f_{95} \\wedge f_{86} \\wedge f_{89} \\wedge f_{97} \\wedge f_{100}) \\vee (f_{44} \\wedge f_{47} \\wedge f_{59} \\wedge f_{97} \\wedge f_{80} \\wedge f_{2} \\wedge f_{84} \\wedge f_{71} \\wedge f_{63} \\wedge f_{100} \\wedge f_{96} \\wedge f_{79} \\wedge f_{99} \\wedge f_{98}) \\vee (f_{38} \\wedge f_{44} \\wedge f_{72} \\wedge f_{14} \\wedge f_{41} \\wedge f_{55} \\wedge f_{96} \\wedge f_{90} \\wedge f_{64} \\wedge f_{77} \\wedge f_{97} \\wedge f_{89} \\wedge f_{69} \\wedge f_{99}) $$\n    "
     },
     "metadata": {},
     "output_type": "display_data"
    },
    {
     "data": {
      "text/plain": [
       "<IPython.core.display.Markdown object>"
      ],
      "text/markdown": "\n    Number of Samples = 140\n    Error = 43\n    $$ (f_{48} \\wedge f_{20} \\wedge f_{74} \\wedge f_{99} \\wedge f_{89} \\wedge f_{97} \\wedge f_{86} \\wedge f_{12} \\wedge f_{96} \\wedge f_{71} \\wedge f_{98} \\wedge f_{95} \\wedge f_{100}) \\vee (f_{92} \\wedge f_{58} \\wedge f_{21} \\wedge f_{93} \\wedge f_{33} \\wedge f_{39} \\wedge f_{37} \\wedge f_{3} \\wedge f_{56} \\wedge f_{36} \\wedge f_{76} \\wedge f_{84} \\wedge f_{80} \\wedge f_{100} \\wedge f_{94}) \\vee (f_{92} \\wedge f_{58} \\wedge f_{21} \\wedge f_{93} \\wedge f_{6} \\wedge f_{44} \\wedge f_{100} \\wedge f_{75} \\wedge f_{57} \\wedge f_{34} \\wedge f_{88} \\wedge f_{87} \\wedge f_{84} \\wedge f_{99} \\wedge f_{97}) $$\n    "
     },
     "metadata": {},
     "output_type": "display_data"
    },
    {
     "data": {
      "text/plain": [
       "<IPython.core.display.Markdown object>"
      ],
      "text/markdown": "\n    Number of Samples = 160\n    Error = 42\n    $$ (f_{99} \\wedge f_{12} \\wedge f_{30} \\wedge f_{100} \\wedge f_{1} \\wedge f_{19} \\wedge f_{89} \\wedge f_{54} \\wedge f_{53} \\wedge f_{43} \\wedge f_{71} \\wedge f_{98}) \\vee (f_{99} \\wedge f_{48} \\wedge f_{89} \\wedge f_{77} \\wedge f_{42} \\wedge f_{98} \\wedge f_{20} \\wedge f_{61} \\wedge f_{31} \\wedge f_{79} \\wedge f_{59} \\wedge f_{97}) \\vee (f_{68} \\wedge f_{12} \\wedge f_{99} \\wedge f_{93} \\wedge f_{46} \\wedge f_{94} \\wedge f_{55} \\wedge f_{100} \\wedge f_{72} \\wedge f_{89} \\wedge f_{98} \\wedge f_{97}) \\vee (f_{44} \\wedge f_{87} \\wedge f_{68} \\wedge f_{5} \\wedge f_{48} \\wedge f_{85} \\wedge f_{69} \\wedge f_{63} \\wedge f_{56} \\wedge f_{39} \\wedge f_{34} \\wedge f_{95} \\wedge f_{99} \\wedge f_{96} \\wedge f_{93}) $$\n    "
     },
     "metadata": {},
     "output_type": "display_data"
    },
    {
     "data": {
      "text/plain": [
       "<IPython.core.display.Markdown object>"
      ],
      "text/markdown": "\n    Number of Samples = 180\n    Error = 41\n    $$ (f_{50} \\wedge f_{4} \\wedge f_{64} \\wedge f_{73} \\wedge f_{71} \\wedge f_{27} \\wedge f_{23} \\wedge f_{52} \\wedge f_{100} \\wedge f_{75} \\wedge f_{92} \\wedge f_{95}) \\vee (f_{20} \\wedge f_{96} \\wedge f_{79} \\wedge f_{29} \\wedge f_{97} \\wedge f_{70} \\wedge f_{48} \\wedge f_{66} \\wedge f_{59} \\wedge f_{55} \\wedge f_{88} \\wedge f_{99} \\wedge f_{98}) \\vee (f_{20} \\wedge f_{96} \\wedge f_{78} \\wedge f_{49} \\wedge f_{4} \\wedge f_{63} \\wedge f_{35} \\wedge f_{25} \\wedge f_{83} \\wedge f_{84} \\wedge f_{100} \\wedge f_{98} \\wedge f_{97} \\wedge f_{95}) \\vee (f_{38} \\wedge f_{89} \\wedge f_{16} \\wedge f_{94} \\wedge f_{96} \\wedge f_{20} \\wedge f_{73} \\wedge f_{46} \\wedge f_{100} \\wedge f_{93} \\wedge f_{97} \\wedge f_{98} \\wedge f_{99}) $$\n    "
     },
     "metadata": {},
     "output_type": "display_data"
    },
    {
     "data": {
      "text/plain": [
       "<IPython.core.display.Markdown object>"
      ],
      "text/markdown": "\n    Number of Samples = 200\n    Error = 39\n    $$ (f_{5} \\wedge f_{76} \\wedge f_{1} \\wedge f_{84} \\wedge f_{6} \\wedge f_{97} \\wedge f_{78} \\wedge f_{89} \\wedge f_{4} \\wedge f_{79} \\wedge f_{59} \\wedge f_{91}) \\vee (f_{4} \\wedge f_{63} \\wedge f_{22} \\wedge f_{87} \\wedge f_{55} \\wedge f_{9} \\wedge f_{16} \\wedge f_{93} \\wedge f_{92} \\wedge f_{80} \\wedge f_{71} \\wedge f_{88} \\wedge f_{96} \\wedge f_{99} \\wedge f_{95}) \\vee (f_{4} \\wedge f_{63} \\wedge f_{45} \\wedge f_{27} \\wedge f_{47} \\wedge f_{41} \\wedge f_{56} \\wedge f_{92} \\wedge f_{59} \\wedge f_{10} \\wedge f_{91} \\wedge f_{97} \\wedge f_{89} \\wedge f_{98} \\wedge f_{90}) \\vee (f_{20} \\wedge f_{42} \\wedge f_{76} \\wedge f_{48} \\wedge f_{18} \\wedge f_{77} \\wedge f_{27} \\wedge f_{87} \\wedge f_{95} \\wedge f_{90} \\wedge f_{64} \\wedge f_{78} \\wedge f_{97} \\wedge f_{89}) \\vee (f_{20} \\wedge f_{92} \\wedge f_{73} \\wedge f_{61} \\wedge f_{22} \\wedge f_{96} \\wedge f_{90} \\wedge f_{93} \\wedge f_{87} \\wedge f_{86} \\wedge f_{79} \\wedge f_{85} \\wedge f_{84} \\wedge f_{82}) \\vee (f_{6} \\wedge f_{92} \\wedge f_{81} \\wedge f_{72} \\wedge f_{62} \\wedge f_{88} \\wedge f_{100} \\wedge f_{43} \\wedge f_{90} \\wedge f_{50} \\wedge f_{60} \\wedge f_{98} \\wedge f_{86} \\wedge f_{99} \\wedge f_{97}) \\vee (f_{76} \\wedge f_{92} \\wedge f_{84} \\wedge f_{33} \\wedge f_{2} \\wedge f_{50} \\wedge f_{49} \\wedge f_{51} \\wedge f_{9} \\wedge f_{93} \\wedge f_{73} \\wedge f_{87} \\wedge f_{97} \\wedge f_{95}) $$\n    "
     },
     "metadata": {},
     "output_type": "display_data"
    },
    {
     "data": {
      "text/plain": [
       "<IPython.core.display.Markdown object>"
      ],
      "text/markdown": "\n    Number of Samples = 220\n    Error = 39\n    $$ (f_{95} \\wedge f_{4} \\wedge f_{35} \\wedge f_{100} \\wedge f_{92} \\wedge f_{47} \\wedge f_{79} \\wedge f_{63} \\wedge f_{61} \\wedge f_{19} \\wedge f_{97} \\wedge f_{99} \\wedge f_{96} \\wedge f_{98}) \\vee (f_{95} \\wedge f_{11} \\wedge f_{4} \\wedge f_{30} \\wedge f_{84} \\wedge f_{75} \\wedge f_{39} \\wedge f_{92} \\wedge f_{93} \\wedge f_{73} \\wedge f_{91} \\wedge f_{81} \\wedge f_{80}) \\vee (f_{29} \\wedge f_{56} \\wedge f_{27} \\wedge f_{71} \\wedge f_{100} \\wedge f_{16} \\wedge f_{13} \\wedge f_{94} \\wedge f_{35} \\wedge f_{30} \\wedge f_{99} \\wedge f_{97} \\wedge f_{96} \\wedge f_{88} \\wedge f_{98} \\wedge f_{95}) \\vee (f_{29} \\wedge f_{56} \\wedge f_{27} \\wedge f_{71} \\wedge f_{63} \\wedge f_{100} \\wedge f_{2} \\wedge f_{16} \\wedge f_{54} \\wedge f_{13} \\wedge f_{97} \\wedge f_{98} \\wedge f_{66} \\wedge f_{99} \\wedge f_{95}) \\vee (f_{29} \\wedge f_{56} \\wedge f_{71} \\wedge f_{27} \\wedge f_{58} \\wedge f_{92} \\wedge f_{91} \\wedge f_{55} \\wedge f_{79} \\wedge f_{52} \\wedge f_{80} \\wedge f_{95} \\wedge f_{94} \\wedge f_{98}) \\vee (f_{100} \\wedge f_{71} \\wedge f_{56} \\wedge f_{28} \\wedge f_{11} \\wedge f_{40} \\wedge f_{90} \\wedge f_{81} \\wedge f_{88} \\wedge f_{99} \\wedge f_{61} \\wedge f_{98} \\wedge f_{95} \\wedge f_{97}) $$\n    "
     },
     "metadata": {},
     "output_type": "display_data"
    },
    {
     "data": {
      "text/plain": [
       "<IPython.core.display.Markdown object>"
      ],
      "text/markdown": "\n    Number of Samples = 240\n    Error = 34\n    $$ (f_{4} \\wedge f_{5} \\wedge f_{2} \\wedge f_{48} \\wedge f_{52} \\wedge f_{85} \\wedge f_{61} \\wedge f_{54} \\wedge f_{86} \\wedge f_{93} \\wedge f_{63} \\wedge f_{43} \\wedge f_{84} \\wedge f_{30}) \\vee (f_{4} \\wedge f_{97} \\wedge f_{39} \\wedge f_{16} \\wedge f_{5} \\wedge f_{80} \\wedge f_{26} \\wedge f_{78} \\wedge f_{14} \\wedge f_{65} \\wedge f_{91} \\wedge f_{50} \\wedge f_{88} \\wedge f_{100} \\wedge f_{99} \\wedge f_{94} \\wedge f_{93}) \\vee (f_{4} \\wedge f_{97} \\wedge f_{46} \\wedge f_{56} \\wedge f_{91} \\wedge f_{75} \\wedge f_{33} \\wedge f_{86} \\wedge f_{65} \\wedge f_{64} \\wedge f_{99} \\wedge f_{90} \\wedge f_{74} \\wedge f_{98} \\wedge f_{100} \\wedge f_{96}) \\vee (f_{4} \\wedge f_{97} \\wedge f_{46} \\wedge f_{55} \\wedge f_{64} \\wedge f_{27} \\wedge f_{91} \\wedge f_{28} \\wedge f_{95} \\wedge f_{22} \\wedge f_{85} \\wedge f_{89} \\wedge f_{98}) \\vee (f_{4} \\wedge f_{5} \\wedge f_{2} \\wedge f_{86} \\wedge f_{65} \\wedge f_{43} \\wedge f_{68} \\wedge f_{52} \\wedge f_{87} \\wedge f_{74} \\wedge f_{39} \\wedge f_{63} \\wedge f_{93} \\wedge f_{79} \\wedge f_{96}) \\vee (f_{4} \\wedge f_{97} \\wedge f_{16} \\wedge f_{39} \\wedge f_{5} \\wedge f_{21} \\wedge f_{87} \\wedge f_{65} \\wedge f_{6} \\wedge f_{94} \\wedge f_{76} \\wedge f_{86} \\wedge f_{99} \\wedge f_{85} \\wedge f_{93}) \\vee (f_{4} \\wedge f_{90} \\wedge f_{5} \\wedge f_{13} \\wedge f_{48} \\wedge f_{41} \\wedge f_{53} \\wedge f_{91} \\wedge f_{71} \\wedge f_{73} \\wedge f_{45} \\wedge f_{95} \\wedge f_{85} \\wedge f_{92}) \\vee (f_{97} \\wedge f_{96} \\wedge f_{94} \\wedge f_{4} \\wedge f_{90} \\wedge f_{16} \\wedge f_{80} \\wedge f_{86} \\wedge f_{84} \\wedge f_{98} \\wedge f_{74} \\wedge f_{77} \\wedge f_{83} \\wedge f_{93}) \\vee (f_{68} \\wedge f_{36} \\wedge f_{16} \\wedge f_{78} \\wedge f_{96} \\wedge f_{22} \\wedge f_{54} \\wedge f_{32} \\wedge f_{25} \\wedge f_{85} \\wedge f_{79} \\wedge f_{100} \\wedge f_{99} \\wedge f_{98}) \\vee (f_{86} \\wedge f_{68} \\wedge f_{11} \\wedge f_{90} \\wedge f_{69} \\wedge f_{35} \\wedge f_{4} \\wedge f_{93} \\wedge f_{33} \\wedge f_{97} \\wedge f_{78} \\wedge f_{61} \\wedge f_{99} \\wedge f_{96}) $$\n    "
     },
     "metadata": {},
     "output_type": "display_data"
    },
    {
     "data": {
      "text/plain": [
       "<IPython.core.display.Markdown object>"
      ],
      "text/markdown": "\n    Number of Samples = 260\n    Error = 31\n    $$ (f_{16} \\wedge f_{95} \\wedge f_{97} \\wedge f_{98} \\wedge f_{6} \\wedge f_{8} \\wedge f_{68} \\wedge f_{78} \\wedge f_{52} \\wedge f_{81} \\wedge f_{67} \\wedge f_{48} \\wedge f_{87} \\wedge f_{100} \\wedge f_{96}) \\vee (f_{5} \\wedge f_{4} \\wedge f_{84} \\wedge f_{35} \\wedge f_{90} \\wedge f_{33} \\wedge f_{59} \\wedge f_{22} \\wedge f_{14} \\wedge f_{67} \\wedge f_{95} \\wedge f_{48} \\wedge f_{68} \\wedge f_{86}) \\vee (f_{16} \\wedge f_{95} \\wedge f_{34} \\wedge f_{90} \\wedge f_{97} \\wedge f_{43} \\wedge f_{48} \\wedge f_{45} \\wedge f_{99} \\wedge f_{96} \\wedge f_{55} \\wedge f_{40} \\wedge f_{98} \\wedge f_{84} \\wedge f_{100}) \\vee (f_{16} \\wedge f_{93} \\wedge f_{5} \\wedge f_{77} \\wedge f_{69} \\wedge f_{15} \\wedge f_{78} \\wedge f_{20} \\wedge f_{88} \\wedge f_{87} \\wedge f_{91} \\wedge f_{60} \\wedge f_{95} \\wedge f_{89}) \\vee (f_{16} \\wedge f_{93} \\wedge f_{100} \\wedge f_{73} \\wedge f_{99} \\wedge f_{88} \\wedge f_{96} \\wedge f_{79} \\wedge f_{97} \\wedge f_{66} \\wedge f_{46} \\wedge f_{50} \\wedge f_{72} \\wedge f_{98}) \\vee (f_{65} \\wedge f_{34} \\wedge f_{99} \\wedge f_{100} \\wedge f_{29} \\wedge f_{57} \\wedge f_{98} \\wedge f_{82} \\wedge f_{4} \\wedge f_{13} \\wedge f_{33} \\wedge f_{58} \\wedge f_{94} \\wedge f_{93}) \\vee (f_{27} \\wedge f_{43} \\wedge f_{22} \\wedge f_{56} \\wedge f_{51} \\wedge f_{16} \\wedge f_{61} \\wedge f_{2} \\wedge f_{63} \\wedge f_{54} \\wedge f_{99} \\wedge f_{97} \\wedge f_{95} \\wedge f_{80} \\wedge f_{100}) \\vee (f_{93} \\wedge f_{20} \\wedge f_{39} \\wedge f_{4} \\wedge f_{14} \\wedge f_{49} \\wedge f_{62} \\wedge f_{80} \\wedge f_{5} \\wedge f_{68} \\wedge f_{77} \\wedge f_{86}) $$\n    "
     },
     "metadata": {},
     "output_type": "display_data"
    },
    {
     "data": {
      "text/plain": [
       "<IPython.core.display.Markdown object>"
      ],
      "text/markdown": "\n    Number of Samples = 280\n    Error = 33\n    $$ (f_{4} \\wedge f_{41} \\wedge f_{94} \\wedge f_{13} \\wedge f_{12} \\wedge f_{71} \\wedge f_{63} \\wedge f_{69} \\wedge f_{90} \\wedge f_{92} \\wedge f_{98} \\wedge f_{97} \\wedge f_{100} \\wedge f_{99} \\wedge f_{96}) \\vee (f_{4} \\wedge f_{41} \\wedge f_{94} \\wedge f_{13} \\wedge f_{84} \\wedge f_{71} \\wedge f_{80} \\wedge f_{10} \\wedge f_{93} \\wedge f_{34} \\wedge f_{65} \\wedge f_{98} \\wedge f_{73}) \\vee (f_{97} \\wedge f_{100} \\wedge f_{99} \\wedge f_{52} \\wedge f_{29} \\wedge f_{17} \\wedge f_{2} \\wedge f_{24} \\wedge f_{90} \\wedge f_{86} \\wedge f_{31} \\wedge f_{76} \\wedge f_{98} \\wedge f_{96} \\wedge f_{95}) \\vee (f_{4} \\wedge f_{97} \\wedge f_{100} \\wedge f_{25} \\wedge f_{64} \\wedge f_{98} \\wedge f_{49} \\wedge f_{71} \\wedge f_{22} \\wedge f_{94} \\wedge f_{65} \\wedge f_{91} \\wedge f_{81} \\wedge f_{86}) \\vee (f_{54} \\wedge f_{4} \\wedge f_{99} \\wedge f_{46} \\wedge f_{85} \\wedge f_{97} \\wedge f_{92} \\wedge f_{93} \\wedge f_{68} \\wedge f_{57} \\wedge f_{87} \\wedge f_{86} \\wedge f_{94} \\wedge f_{89}) \\vee (f_{12} \\wedge f_{96} \\wedge f_{30} \\wedge f_{45} \\wedge f_{97} \\wedge f_{100} \\wedge f_{99} \\wedge f_{4} \\wedge f_{95} \\wedge f_{89} \\wedge f_{85} \\wedge f_{98}) \\vee (f_{2} \\wedge f_{96} \\wedge f_{12} \\wedge f_{52} \\wedge f_{41} \\wedge f_{97} \\wedge f_{34} \\wedge f_{62} \\wedge f_{90} \\wedge f_{38} \\wedge f_{48} \\wedge f_{64} \\wedge f_{91} \\wedge f_{98} \\wedge f_{99} \\wedge f_{100}) \\vee (f_{2} \\wedge f_{13} \\wedge f_{57} \\wedge f_{54} \\wedge f_{12} \\wedge f_{49} \\wedge f_{93} \\wedge f_{47} \\wedge f_{55} \\wedge f_{90} \\wedge f_{87} \\wedge f_{92} \\wedge f_{84} \\wedge f_{85} \\wedge f_{96}) \\vee (f_{34} \\wedge f_{94} \\wedge f_{32} \\wedge f_{99} \\wedge f_{35} \\wedge f_{97} \\wedge f_{58} \\wedge f_{11} \\wedge f_{96} \\wedge f_{84} \\wedge f_{80} \\wedge f_{59} \\wedge f_{100} \\wedge f_{98}) $$\n    "
     },
     "metadata": {},
     "output_type": "display_data"
    },
    {
     "data": {
      "text/plain": [
       "<IPython.core.display.Markdown object>"
      ],
      "text/markdown": "\n    Number of Samples = 300\n    Error = 36\n    $$ (f_{28} \\wedge f_{4} \\wedge f_{52} \\wedge f_{91} \\wedge f_{64} \\wedge f_{25} \\wedge f_{39} \\wedge f_{96} \\wedge f_{2} \\wedge f_{72} \\wedge f_{10} \\wedge f_{97} \\wedge f_{65} \\wedge f_{81} \\wedge f_{90} \\wedge f_{89}) \\vee (f_{48} \\wedge f_{5} \\wedge f_{52} \\wedge f_{4} \\wedge f_{2} \\wedge f_{94} \\wedge f_{86} \\wedge f_{85} \\wedge f_{44} \\wedge f_{57} \\wedge f_{72} \\wedge f_{93} \\wedge f_{66} \\wedge f_{98}) \\vee (f_{95} \\wedge f_{73} \\wedge f_{84} \\wedge f_{16} \\wedge f_{98} \\wedge f_{88} \\wedge f_{100} \\wedge f_{15} \\wedge f_{72} \\wedge f_{45} \\wedge f_{93} \\wedge f_{55} \\wedge f_{99} \\wedge f_{97} \\wedge f_{96}) \\vee (f_{95} \\wedge f_{68} \\wedge f_{17} \\wedge f_{11} \\wedge f_{2} \\wedge f_{21} \\wedge f_{91} \\wedge f_{84} \\wedge f_{70} \\wedge f_{82} \\wedge f_{100} \\wedge f_{78} \\wedge f_{48}) \\vee (f_{95} \\wedge f_{98} \\wedge f_{1} \\wedge f_{8} \\wedge f_{17} \\wedge f_{68} \\wedge f_{84} \\wedge f_{20} \\wedge f_{100} \\wedge f_{77} \\wedge f_{74} \\wedge f_{48} \\wedge f_{99} \\wedge f_{97} \\wedge f_{96}) \\vee (f_{27} \\wedge f_{56} \\wedge f_{91} \\wedge f_{7} \\wedge f_{95} \\wedge f_{67} \\wedge f_{73} \\wedge f_{78} \\wedge f_{100} \\wedge f_{57} \\wedge f_{75} \\wedge f_{98} \\wedge f_{89} \\wedge f_{99} \\wedge f_{96}) \\vee (f_{27} \\wedge f_{63} \\wedge f_{94} \\wedge f_{29} \\wedge f_{7} \\wedge f_{91} \\wedge f_{47} \\wedge f_{79} \\wedge f_{92} \\wedge f_{73} \\wedge f_{54} \\wedge f_{67} \\wedge f_{97} \\wedge f_{89} \\wedge f_{98}) $$\n    "
     },
     "metadata": {},
     "output_type": "display_data"
    },
    {
     "data": {
      "text/plain": [
       "<IPython.core.display.Markdown object>"
      ],
      "text/markdown": "\n    Number of Samples = 320\n    Error = 35\n    $$ (f_{4} \\wedge f_{41} \\wedge f_{1} \\wedge f_{89} \\wedge f_{16} \\wedge f_{87} \\wedge f_{77} \\wedge f_{13} \\wedge f_{55} \\wedge f_{56} \\wedge f_{63} \\wedge f_{92} \\wedge f_{76} \\wedge f_{93} \\wedge f_{66} \\wedge f_{96} \\wedge f_{99} \\wedge f_{95}) \\vee (f_{4} \\wedge f_{41} \\wedge f_{97} \\wedge f_{91} \\wedge f_{43} \\wedge f_{39} \\wedge f_{47} \\wedge f_{64} \\wedge f_{72} \\wedge f_{13} \\wedge f_{9} \\wedge f_{96} \\wedge f_{90} \\wedge f_{99} \\wedge f_{80} \\wedge f_{89}) \\vee (f_{4} \\wedge f_{41} \\wedge f_{97} \\wedge f_{91} \\wedge f_{85} \\wedge f_{56} \\wedge f_{99} \\wedge f_{38} \\wedge f_{66} \\wedge f_{48} \\wedge f_{16} \\wedge f_{88} \\wedge f_{100} \\wedge f_{90} \\wedge f_{95}) \\vee (f_{4} \\wedge f_{41} \\wedge f_{97} \\wedge f_{91} \\wedge f_{89} \\wedge f_{69} \\wedge f_{38} \\wedge f_{15} \\wedge f_{87} \\wedge f_{49} \\wedge f_{28} \\wedge f_{26} \\wedge f_{90} \\wedge f_{78} \\wedge f_{93} \\wedge f_{95}) \\vee (f_{4} \\wedge f_{41} \\wedge f_{39} \\wedge f_{1} \\wedge f_{25} \\wedge f_{56} \\wedge f_{66} \\wedge f_{53} \\wedge f_{86} \\wedge f_{96} \\wedge f_{71} \\wedge f_{98} \\wedge f_{97}) \\vee (f_{60} \\wedge f_{99} \\wedge f_{31} \\wedge f_{1} \\wedge f_{65} \\wedge f_{5} \\wedge f_{4} \\wedge f_{44} \\wedge f_{74} \\wedge f_{48} \\wedge f_{8} \\wedge f_{91} \\wedge f_{100} \\wedge f_{97} \\wedge f_{86}) \\vee (f_{92} \\wedge f_{41} \\wedge f_{65} \\wedge f_{3} \\wedge f_{69} \\wedge f_{49} \\wedge f_{9} \\wedge f_{71} \\wedge f_{97} \\wedge f_{96} \\wedge f_{100} \\wedge f_{98} \\wedge f_{95} \\wedge f_{99}) \\vee (f_{92} \\wedge f_{41} \\wedge f_{76} \\wedge f_{3} \\wedge f_{61} \\wedge f_{18} \\wedge f_{77} \\wedge f_{16} \\wedge f_{58} \\wedge f_{83} \\wedge f_{60} \\wedge f_{89} \\wedge f_{99} \\wedge f_{97} \\wedge f_{94}) \\vee (f_{92} \\wedge f_{41} \\wedge f_{76} \\wedge f_{3} \\wedge f_{61} \\wedge f_{18} \\wedge f_{77} \\wedge f_{67} \\wedge f_{99} \\wedge f_{53} \\wedge f_{100} \\wedge f_{90} \\wedge f_{88} \\wedge f_{69}) $$\n    "
     },
     "metadata": {},
     "output_type": "display_data"
    }
   ],
   "execution_count": null
  },
  {
   "metadata": {
    "jupyter": {
     "is_executing": true
    }
   },
   "cell_type": "code",
   "source": [
    "from matplotlib import pyplot as plt\n",
    "\n",
    "plt.plot(samples, errors, color='c')\n",
    "plt.xlabel('Number of samples')\n",
    "plt.ylabel('Error')\n",
    "plt.grid()\n",
    "plt.show()"
   ],
   "id": "5318a80b01145396",
   "outputs": [],
   "execution_count": null
  }
 ],
 "metadata": {
  "kernelspec": {
   "display_name": "Python 3",
   "language": "python",
   "name": "python3"
  },
  "language_info": {
   "codemirror_mode": {
    "name": "ipython",
    "version": 2
   },
   "file_extension": ".py",
   "mimetype": "text/x-python",
   "name": "python",
   "nbconvert_exporter": "python",
   "pygments_lexer": "ipython2",
   "version": "2.7.6"
  }
 },
 "nbformat": 4,
 "nbformat_minor": 5
}
