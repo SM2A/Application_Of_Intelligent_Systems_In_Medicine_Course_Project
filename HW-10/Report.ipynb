{
 "cells": [
  {
   "cell_type": "markdown",
   "id": "38cfc71edb2f9506",
   "metadata": {},
   "source": "# Seyed Mohammad Amin Atyabi - 830402014 - HW 10"
  },
  {
   "metadata": {},
   "cell_type": "markdown",
   "source": "در این تمرین با استفاده از شبکه عصبی مصنوعی اقدام به تشخیص بیماری افراد از روی مشخصه های داده شده میکنیم.",
   "id": "8f1aa5a65c6778ff"
  },
  {
   "metadata": {},
   "cell_type": "markdown",
   "source": [
    "همانطور که در صورت سوال آورده شده است، شبکه عصبی که باید طراحی کنیم بدین شکل است.\n",
    "\n",
    "<img src=\"Res/nn-base.png\">"
   ],
   "id": "1a1eaa2c57120503"
  },
  {
   "metadata": {},
   "cell_type": "markdown",
   "source": [
    "همچنین از روابط زیر برای آموزش (بروزرسانی) وزن های شبکه استفاده خواهیم کرد.\n",
    "\n",
    "<img src=\"Res/formula.png\">"
   ],
   "id": "48b57f06f7d362fa"
  },
  {
   "metadata": {
    "ExecuteTime": {
     "end_time": "2024-06-13T13:27:53.636433Z",
     "start_time": "2024-06-13T13:27:52.238527Z"
    }
   },
   "cell_type": "code",
   "source": [
    "import numpy\n",
    "import pandas\n",
    "from scipy import io as sio\n",
    "from matplotlib import pyplot as plt\n",
    "from sklearn.preprocessing import Normalizer\n",
    "from sklearn.preprocessing import OneHotEncoder\n",
    "\n",
    "\n",
    "class NeuralNetwork:\n",
    "    def __init__(self, x, y, test_x, test_y, learning_rate):\n",
    "        self.input = x\n",
    "        self.y = y\n",
    "        self.test_x = test_x\n",
    "        self.test_y = test_y\n",
    "        self.output = numpy.zeros(self.y.shape)\n",
    "        self.learning_rate = learning_rate\n",
    "        self.layer1 = None\n",
    "        self.weights1 = numpy.random.normal(0, 0.01, (self.input.shape[1], 2))\n",
    "        self.weights2 = numpy.random.normal(0, 0.01, (2, 4))\n",
    "\n",
    "    def activation_function(self, x):\n",
    "        return (numpy.exp(2 * x) - 1) / (numpy.exp(2 * x) + 1)\n",
    "\n",
    "    def activation_function_derivative(self, x):\n",
    "        return (4 * numpy.exp(2 * x)) / (numpy.exp(2 * x) + 1) ** 2\n",
    "\n",
    "    def feed_forward(self):\n",
    "        self.layer1 = self.activation_function(numpy.dot(self.input, self.weights1))\n",
    "        self.output = self.activation_function(numpy.dot(self.layer1, self.weights2))\n",
    "\n",
    "    def back_propagate(self):\n",
    "        d_weights2 = numpy.dot(self.layer1.T, (self.y - self.output) * self.activation_function_derivative(self.output))\n",
    "        d_weights1 = numpy.dot(self.input.T, numpy.sum(numpy.dot(self.y - self.output, self.weights2.T), axis=1,\n",
    "                                                       keepdims=True) * self.activation_function_derivative(\n",
    "            self.layer1))\n",
    "\n",
    "        self.weights1 += self.learning_rate * d_weights1\n",
    "        self.weights2 += self.learning_rate * d_weights2\n",
    "\n",
    "    def calculate_average_square_error(self):\n",
    "        layer1 = self.activation_function(numpy.dot(self.test_x, self.weights1))\n",
    "        output = self.activation_function(numpy.dot(layer1, self.weights2))\n",
    "        return numpy.mean(numpy.square(self.test_y - output))\n",
    "\n",
    "    def calculate_error(self):\n",
    "        layer1 = self.activation_function(numpy.dot(self.test_x, self.weights1))\n",
    "        output = self.activation_function(numpy.dot(layer1, self.weights2))\n",
    "        return 1 - ((numpy.sum(numpy.argmax(self.test_y, axis=1) == numpy.argmax(output, axis=1))) / len(self.test_x))\n",
    "\n",
    "\n",
    "columns = [\n",
    "    'AGE',\n",
    "    'ON THYROXINE',\n",
    "    'TSH MEASURED',\n",
    "    'TSH',\n",
    "    'T3',\n",
    "    'TT4 MEASURED',\n",
    "    'TT4',\n",
    "    'SICKNESS'\n",
    "]\n",
    "\n",
    "data = pandas.DataFrame(sio.loadmat('Data/Thyroid.mat').get('Data'), columns=columns, dtype=float)\n",
    "\n",
    "normalizer = Normalizer()\n",
    "X = normalizer.fit_transform(data.drop('SICKNESS', axis=1).values)\n",
    "y = data['SICKNESS'].values\n",
    "\n",
    "encoder = OneHotEncoder(sparse_output=False)\n",
    "y = encoder.fit_transform(y.reshape(-1, 1))\n",
    "\n",
    "nn = NeuralNetwork(X[0:80], y[0:80], X[80:], y[80:], 0.01)\n",
    "ase = []\n",
    "\n",
    "for i in range(1000):\n",
    "    nn.feed_forward()\n",
    "    nn.back_propagate()\n",
    "    ase.append(nn.calculate_average_square_error())\n",
    "    if ase[-1] < 0.2:\n",
    "        print(nn.weights1)\n",
    "        print(nn.weights2)\n",
    "        print(nn.calculate_error())\n",
    "        break\n",
    "\n",
    "plt.plot(ase, color='g')\n",
    "plt.title('Average Square Error')\n",
    "plt.xlabel('Epoch')\n",
    "plt.ylabel('Error')\n",
    "plt.grid()\n",
    "plt.show()"
   ],
   "id": "f82e7916dbb6216e",
   "outputs": [
    {
     "name": "stdout",
     "output_type": "stream",
     "text": [
      "[[ 0.23469998  0.23154611]\n",
      " [-0.0156383  -0.01227126]\n",
      " [ 0.00257131  0.01001539]\n",
      " [ 0.03827852  0.01661864]\n",
      " [ 0.01858363  0.03421372]\n",
      " [ 0.01674983  0.02601608]\n",
      " [ 0.45576871  0.44903864]]\n",
      "[[0.2938293  0.24892261 0.08606374 0.00291003]\n",
      " [0.26040754 0.21413298 0.06397135 0.0163126 ]]\n",
      "0.7\n"
     ]
    },
    {
     "data": {
      "text/plain": [
       "<Figure size 640x480 with 1 Axes>"
      ],
      "image/png": "[encoded data removed]"
     },
     "metadata": {},
     "output_type": "display_data"
    }
   ],
   "execution_count": 1
  }
 ],
 "metadata": {
  "kernelspec": {
   "display_name": "Python 3 (ipykernel)",
   "language": "python",
   "name": "python3"
  },
  "language_info": {
   "codemirror_mode": {
    "name": "ipython",
    "version": 3
   },
   "file_extension": ".py",
   "mimetype": "text/x-python",
   "name": "python",
   "nbconvert_exporter": "python",
   "pygments_lexer": "ipython3",
   "version": "3.12.0"
  }
 },
 "nbformat": 4,
 "nbformat_minor": 5
}
