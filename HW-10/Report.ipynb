{
 "cells": [
  {
   "cell_type": "markdown",
   "id": "38cfc71edb2f9506",
   "metadata": {},
   "source": "# Seyed Mohammad Amin Atyabi - 830402014 - HW 10"
  },
  {
   "metadata": {},
   "cell_type": "markdown",
   "source": "در این تمرین با استفاده از شبکه عصبی مصنوعی اقدام به تشخیص بیماری افراد از روی مشخصه های داده شده میکنیم.",
   "id": "8f1aa5a65c6778ff"
  },
  {
   "metadata": {},
   "cell_type": "markdown",
   "source": [
    "همانطور که در صورت سوال آورده شده است، شبکه عصبی که باید طراحی کنیم بدین شکل است.\n",
    "\n",
    "<img src=\"Res/nn-base.png\">"
   ],
   "id": "1a1eaa2c57120503"
  },
  {
   "metadata": {},
   "cell_type": "markdown",
   "source": [
    "همچنین از روابط زیر برای آموزش (بروزرسانی) وزن های شبکه استفاده خواهیم کرد.\n",
    "\n",
    "<img src=\"Res/formula.png\">"
   ],
   "id": "48b57f06f7d362fa"
  },
  {
   "metadata": {
    "ExecuteTime": {
     "end_time": "2024-06-23T15:53:18.864057Z",
     "start_time": "2024-06-23T15:53:17.668486Z"
    }
   },
   "cell_type": "code",
   "source": [
    "import numpy\n",
    "import pandas\n",
    "from scipy import io as sio\n",
    "from matplotlib import pyplot as plt\n",
    "from sklearn.preprocessing import Normalizer\n",
    "from sklearn.preprocessing import OneHotEncoder\n",
    "\n",
    "\n",
    "class NeuralNetwork:\n",
    "    def __init__(self, x, y, test_x, test_y, learning_rate):\n",
    "        self.input = x\n",
    "        self.y = y\n",
    "        self.test_x = test_x\n",
    "        self.test_y = test_y\n",
    "        self.output = numpy.zeros(self.y.shape)\n",
    "        self.learning_rate = learning_rate\n",
    "        self.layer1 = None\n",
    "        self.layer1_z = None\n",
    "        self.layer2_z = None\n",
    "        self.weights1 = numpy.random.normal(0, 0.01, (self.input.shape[1], 2))\n",
    "        self.weights2 = numpy.random.normal(0, 0.01, (2, 4))\n",
    "\n",
    "    def activation_function(self, x):\n",
    "        return (numpy.exp(2 * x) - 1) / (numpy.exp(2 * x) + 1)\n",
    "\n",
    "    def activation_function_derivative(self, x):\n",
    "        return (4 * numpy.exp(2 * x)) / (numpy.exp(2 * x) + 1) ** 2\n",
    "\n",
    "    def feed_forward(self):\n",
    "        self.layer1_z = numpy.dot(self.input, self.weights1)\n",
    "        self.layer1 = self.activation_function(self.layer1_z)\n",
    "        self.layer2_z = numpy.dot(self.layer1, self.weights2)\n",
    "        self.output = self.activation_function(self.layer2_z)\n",
    "\n",
    "    def back_propagate(self):\n",
    "        d_weights2 = numpy.dot(self.layer1.T, (self.y - self.output) * self.activation_function_derivative(self.layer2_z))\n",
    "        d_weights1 = numpy.dot(self.input.T, numpy.sum(numpy.dot(self.y - self.output, self.weights2.T), axis=1,\n",
    "                                                       keepdims=True) * self.activation_function_derivative(\n",
    "            self.layer1_z))\n",
    "\n",
    "        self.weights1 += self.learning_rate * d_weights1\n",
    "        self.weights2 += self.learning_rate * d_weights2\n",
    "\n",
    "    def calculate_average_square_error(self):\n",
    "        layer1 = self.activation_function(numpy.dot(self.test_x, self.weights1))\n",
    "        output = self.activation_function(numpy.dot(layer1, self.weights2))\n",
    "        return numpy.mean(numpy.square(self.test_y - output))\n",
    "\n",
    "    def calculate_error(self):\n",
    "        layer1 = self.activation_function(numpy.dot(self.test_x, self.weights1))\n",
    "        output = self.activation_function(numpy.dot(layer1, self.weights2))\n",
    "        return 1 - ((numpy.sum(numpy.argmax(self.test_y, axis=1) == numpy.argmax(output, axis=1))) / len(self.test_x))\n",
    "\n",
    "\n",
    "columns = [\n",
    "    'AGE',\n",
    "    'ON THYROXINE',\n",
    "    'TSH MEASURED',\n",
    "    'TSH',\n",
    "    'T3',\n",
    "    'TT4 MEASURED',\n",
    "    'TT4',\n",
    "    'SICKNESS'\n",
    "]\n",
    "\n",
    "data = pandas.DataFrame(sio.loadmat('Data/Thyroid.mat').get('Data'), columns=columns, dtype=float)\n",
    "\n",
    "normalizer = Normalizer()\n",
    "X = normalizer.fit_transform(data.drop('SICKNESS', axis=1).values)\n",
    "y = data['SICKNESS'].values\n",
    "\n",
    "encoder = OneHotEncoder(sparse_output=False)\n",
    "y = encoder.fit_transform(y.reshape(-1, 1))\n",
    "\n",
    "nn = NeuralNetwork(X[0:80], y[0:80], X[80:], y[80:], 0.01)\n",
    "ase = []\n",
    "\n",
    "for i in range(1000):\n",
    "    nn.feed_forward()\n",
    "    nn.back_propagate()\n",
    "    ase.append(nn.calculate_average_square_error())\n",
    "    if ase[-1] < 0.2:\n",
    "        print(nn.weights1)\n",
    "        print(nn.weights2)\n",
    "        print(nn.calculate_error())\n",
    "        break\n",
    "\n",
    "plt.plot(ase, color='g')\n",
    "plt.title('Average Square Error')\n",
    "plt.xlabel('Epoch')\n",
    "plt.ylabel('Error')\n",
    "plt.grid()\n",
    "plt.show()"
   ],
   "id": "f82e7916dbb6216e",
   "outputs": [
    {
     "name": "stdout",
     "output_type": "stream",
     "text": [
      "[[ 0.2431767   0.24194614]\n",
      " [-0.01103207 -0.00392969]\n",
      " [ 0.01598814 -0.00173517]\n",
      " [ 0.03253906  0.0265301 ]\n",
      " [ 0.02195007  0.01026701]\n",
      " [ 0.00797522  0.00708347]\n",
      " [ 0.49110264  0.49735736]]\n",
      "[[0.30112816 0.25205416 0.08382053 0.02196277]\n",
      " [0.30337645 0.25147619 0.07598179 0.0069452 ]]\n",
      "0.7\n"
     ]
    },
    {
     "data": {
      "text/plain": [
       "<Figure size 640x480 with 1 Axes>"
      ],
      "image/png": "[encoded data removed]"
     },
     "metadata": {},
     "output_type": "display_data"
    }
   ],
   "execution_count": 1
  }
 ],
 "metadata": {
  "kernelspec": {
   "display_name": "Python 3 (ipykernel)",
   "language": "python",
   "name": "python3"
  },
  "language_info": {
   "codemirror_mode": {
    "name": "ipython",
    "version": 3
   },
   "file_extension": ".py",
   "mimetype": "text/x-python",
   "name": "python",
   "nbconvert_exporter": "python",
   "pygments_lexer": "ipython3",
   "version": "3.12.0"
  }
 },
 "nbformat": 4,
 "nbformat_minor": 5
}
