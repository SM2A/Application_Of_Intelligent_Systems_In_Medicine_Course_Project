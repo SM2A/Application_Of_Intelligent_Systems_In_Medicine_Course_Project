{
 "cells": [
  {
   "cell_type": "markdown",
   "id": "67832d25",
   "metadata": {
    "collapsed": false,
    "pycharm": {
     "name": "#%% md\n"
    }
   },
   "source": [
    "# Seyed Mohammad Amin Atyabi - 830402014 - HW 3"
   ]
  },
  {
   "cell_type": "code",
   "execution_count": 1,
   "outputs": [
    {
     "data": {
      "text/plain": "dict_keys(['__header__', '__version__', '__globals__', 'P'])"
     },
     "execution_count": 1,
     "metadata": {},
     "output_type": "execute_result"
    }
   ],
   "source": [
    "from scipy import io as sio\n",
    "\n",
    "node_connections = sio.loadmat('Data/SAT_20Var.mat')\n",
    "node_connections.keys()"
   ],
   "metadata": {
    "collapsed": false,
    "ExecuteTime": {
     "end_time": "2024-03-22T09:13:39.525458100Z",
     "start_time": "2024-03-22T09:13:37.936039600Z"
    }
   },
   "id": "a284bfb833407d27"
  },
  {
   "cell_type": "code",
   "execution_count": 3,
   "outputs": [
    {
     "data": {
      "text/plain": "array([[  1, -20,   5],\n       [  8,  -1,   2],\n       [  3, -15,  19],\n       [-15,   6, -13],\n       [  9, -19, -13],\n       [  3,  20,  17],\n       [ -2, -11,   8],\n       [ 16,  13,  -9],\n       [-17,  15,   6],\n       [  3, -19,  16],\n       [  5,  14,  -7],\n       [ -8, -14,  19],\n       [-16,  -6,  17],\n       [ 15,  -8,  -9],\n       [  7, -14,  -9],\n       [  2,  -3,  20],\n       [ 18,  12,   7],\n       [ 16,  17, -20],\n       [ 17,  -1,  -2],\n       [-11, -10, -20],\n       [-14,  19, -20],\n       [ 20,  -1,   5],\n       [  9,  -6,   2],\n       [  2, -11,   9],\n       [-16,   6,  13],\n       [-13, -20,  -9],\n       [ -5,  12,  -9],\n       [  7,  16, -14],\n       [-12, -18,  -6],\n       [  9, -17,  19],\n       [-13,   9,  18],\n       [ -6,  19, -10],\n       [-15,  18, -19],\n       [ 10,  16,  -6],\n       [-12,  -4, -13],\n       [  5,   8,  16],\n       [  6,  -7, -14],\n       [-20,   8,  -9],\n       [ -8, -11, -13],\n       [ -8,  -5,   4],\n       [-18,   2, -11],\n       [-18,  -8,  -5],\n       [ -3,  12,   4],\n       [  9,  17,  14],\n       [  2, -17,  11],\n       [ -8,  14,  -9],\n       [ 18,  -5, -19],\n       [ 18,  19,  -3],\n       [ -5, -18,  -8],\n       [ -4,  20,  14],\n       [ -3,  13,  12],\n       [ -9,  15,  -1],\n       [  9,  -8,  15],\n       [-14, -15, -11],\n       [-13,  -5, -10],\n       [-10,  16,   3],\n       [ -9,  19,  -6],\n       [ -9, -17, -13],\n       [ 11,  -8,  13],\n       [ 17,  13,   8],\n       [-18,  16,   1],\n       [  7,  19,  11],\n       [-14,  -5, -20],\n       [  3,   5, -11],\n       [  2,  17,   1],\n       [  5,   4, -17],\n       [-10,  -8,  16],\n       [  8,  19,   5],\n       [ 16,   6, -15],\n       [-10, -14,  17],\n       [ -7,   3,  -4],\n       [-12,  -4,   2],\n       [ -7, -10,  14],\n       [ -7,  17,  18],\n       [ -5, -17,   6],\n       [  2,  17,  -8],\n       [  4,   1,  -2],\n       [ 14,  -7,  -2],\n       [-10,  -5,  -7],\n       [ -5,   8,   1],\n       [  2,  19, -14],\n       [-11,   9,  12],\n       [ -9, -16,  -6],\n       [ -6, -19,  -8],\n       [ -8,   3,  10],\n       [ -7,  11,  17],\n       [ -9,  16,  15],\n       [-18,   1,   4],\n       [  4,  19,   1],\n       [-11,  14,   5],\n       [  8,  14, -19]], dtype=int16)"
     },
     "execution_count": 3,
     "metadata": {},
     "output_type": "execute_result"
    }
   ],
   "source": [
    "P = node_connections.get('P')\n",
    "P"
   ],
   "metadata": {
    "collapsed": false,
    "ExecuteTime": {
     "end_time": "2024-03-22T09:14:22.364647400Z",
     "start_time": "2024-03-22T09:14:22.357642300Z"
    }
   },
   "id": "61204c6b461f5aa2"
  }
 ],
 "metadata": {
  "kernelspec": {
   "display_name": "Python 3 (ipykernel)",
   "language": "python",
   "name": "python3"
  },
  "language_info": {
   "codemirror_mode": {
    "name": "ipython",
    "version": 3
   },
   "file_extension": ".py",
   "mimetype": "text/x-python",
   "name": "python",
   "nbconvert_exporter": "python",
   "pygments_lexer": "ipython3",
   "version": "3.9.7"
  }
 },
 "nbformat": 4,
 "nbformat_minor": 5
}
