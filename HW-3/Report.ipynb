{
 "cells": [
  {
   "cell_type": "markdown",
   "id": "67832d25",
   "metadata": {
    "collapsed": false,
    "jupyter": {
     "outputs_hidden": false
    },
    "pycharm": {
     "name": "#%% md\n"
    }
   },
   "source": [
    "# Seyed Mohammad Amin Atyabi - 830402014 - HW 3"
   ]
  },
  {
   "metadata": {},
   "cell_type": "markdown",
   "source": [
    "با توجه به پیاده سازی زیر، با هر اجرا، پاسخ یکسانی تولید خواهد شد چراکه مسیر پیمایش شده در هر بار اجرا یکسان است.\n",
    "\n",
    "به طور کلی یک مساله $SAT$ لزوما دارای جواب نیست. برای مثال در $1-SAT$ زیر هیچ جوابی وجود ندارد.\n",
    "\n",
    "$$ (A) \\wedge (\\sim A) $$"
   ],
   "id": "f0c8abf0e355e91a"
  },
  {
   "cell_type": "code",
   "execution_count": 1,
   "id": "a284bfb833407d27",
   "metadata": {
    "ExecuteTime": {
     "end_time": "2024-04-16T20:48:48.966239Z",
     "start_time": "2024-04-16T20:48:48.813104Z"
    },
    "collapsed": false,
    "jupyter": {
     "outputs_hidden": false
    }
   },
   "outputs": [],
   "source": [
    "from scipy import io as sio\n",
    "\n",
    "sat = None\n",
    "\n",
    "\n",
    "def load_sat(name):\n",
    "    node_connections = sio.loadmat(name)\n",
    "    global sat\n",
    "    sat = node_connections.get('P')\n",
    "\n",
    "\n",
    "def check_satisfiability(values):\n",
    "    sum_satisfied = 0\n",
    "    for clause in sat:\n",
    "        for var in clause:\n",
    "            value = values[abs(var) - 1]\n",
    "            value = True if value == '1' else False\n",
    "            value = value if var > 0 else not value\n",
    "            if value:\n",
    "                sum_satisfied += 1\n",
    "                break\n",
    "    if sum_satisfied == len(sat):\n",
    "        return True\n",
    "    else:\n",
    "        return False\n",
    "\n",
    "\n",
    "def solve_sat(var_count, values=''):\n",
    "    if var_count == 0:\n",
    "        if check_satisfiability(values):\n",
    "            return values\n",
    "        else:\n",
    "            return None\n",
    "    else:\n",
    "        with_true = solve_sat(var_count - 1, values + '1')\n",
    "        if with_true is not None:\n",
    "            return with_true\n",
    "        with_false = solve_sat(var_count - 1, values + '0')\n",
    "        if with_false is not None:\n",
    "            return with_false\n",
    "\n",
    "\n",
    "def print_result(res):\n",
    "    if res is None:\n",
    "        print('Not satisfiable')\n",
    "    else:\n",
    "        for v in range(len(res)):\n",
    "            print(f'{v + 1}: {True if res[v] == str(1) else False}')"
   ]
  },
  {
   "cell_type": "code",
   "execution_count": 2,
   "id": "bdab6db675189f97",
   "metadata": {
    "ExecuteTime": {
     "end_time": "2024-04-16T20:49:03.668490Z",
     "start_time": "2024-04-16T20:48:52.241395Z"
    }
   },
   "outputs": [
    {
     "name": "stdout",
     "output_type": "stream",
     "text": [
      "1: True\n",
      "2: True\n",
      "3: True\n",
      "4: True\n",
      "5: False\n",
      "6: True\n",
      "7: True\n",
      "8: False\n",
      "9: False\n",
      "10: True\n",
      "11: False\n",
      "12: True\n",
      "13: False\n",
      "14: True\n",
      "15: False\n",
      "16: True\n",
      "17: True\n",
      "18: False\n",
      "19: True\n",
      "20: True\n"
     ]
    }
   ],
   "source": [
    "load_sat('Data/SAT_20Var.mat')\n",
    "result = solve_sat(20)\n",
    "print_result(result)"
   ]
  },
  {
   "cell_type": "code",
   "execution_count": 3,
   "id": "dac664b52f7ec63b",
   "metadata": {
    "ExecuteTime": {
     "end_time": "2024-04-16T21:58:23.708241Z",
     "start_time": "2024-04-16T20:49:06.823884Z"
    }
   },
   "outputs": [
    {
     "ename": "KeyboardInterrupt",
     "evalue": "",
     "output_type": "error",
     "traceback": [
      "\u001B[1;31m---------------------------------------------------------------------------\u001B[0m",
      "\u001B[1;31mKeyboardInterrupt\u001B[0m                         Traceback (most recent call last)",
      "Cell \u001B[1;32mIn[3], line 2\u001B[0m\n\u001B[0;32m      1\u001B[0m load_sat(\u001B[38;5;124m'\u001B[39m\u001B[38;5;124mData/SAT_50Var.mat\u001B[39m\u001B[38;5;124m'\u001B[39m)\n\u001B[1;32m----> 2\u001B[0m result \u001B[38;5;241m=\u001B[39m \u001B[43msolve_sat\u001B[49m\u001B[43m(\u001B[49m\u001B[38;5;241;43m50\u001B[39;49m\u001B[43m)\u001B[49m\n\u001B[0;32m      3\u001B[0m print_result(result)\n",
      "Cell \u001B[1;32mIn[1], line 35\u001B[0m, in \u001B[0;36msolve_sat\u001B[1;34m(var_count, values)\u001B[0m\n\u001B[0;32m     33\u001B[0m         \u001B[38;5;28;01mreturn\u001B[39;00m \u001B[38;5;28;01mNone\u001B[39;00m\n\u001B[0;32m     34\u001B[0m \u001B[38;5;28;01melse\u001B[39;00m:\n\u001B[1;32m---> 35\u001B[0m     with_true \u001B[38;5;241m=\u001B[39m \u001B[43msolve_sat\u001B[49m\u001B[43m(\u001B[49m\u001B[43mvar_count\u001B[49m\u001B[43m \u001B[49m\u001B[38;5;241;43m-\u001B[39;49m\u001B[43m \u001B[49m\u001B[38;5;241;43m1\u001B[39;49m\u001B[43m,\u001B[49m\u001B[43m \u001B[49m\u001B[43mvalues\u001B[49m\u001B[43m \u001B[49m\u001B[38;5;241;43m+\u001B[39;49m\u001B[43m \u001B[49m\u001B[38;5;124;43m'\u001B[39;49m\u001B[38;5;124;43m1\u001B[39;49m\u001B[38;5;124;43m'\u001B[39;49m\u001B[43m)\u001B[49m\n\u001B[0;32m     36\u001B[0m     \u001B[38;5;28;01mif\u001B[39;00m with_true \u001B[38;5;129;01mis\u001B[39;00m \u001B[38;5;129;01mnot\u001B[39;00m \u001B[38;5;28;01mNone\u001B[39;00m:\n\u001B[0;32m     37\u001B[0m         \u001B[38;5;28;01mreturn\u001B[39;00m with_true\n",
      "Cell \u001B[1;32mIn[1], line 35\u001B[0m, in \u001B[0;36msolve_sat\u001B[1;34m(var_count, values)\u001B[0m\n\u001B[0;32m     33\u001B[0m         \u001B[38;5;28;01mreturn\u001B[39;00m \u001B[38;5;28;01mNone\u001B[39;00m\n\u001B[0;32m     34\u001B[0m \u001B[38;5;28;01melse\u001B[39;00m:\n\u001B[1;32m---> 35\u001B[0m     with_true \u001B[38;5;241m=\u001B[39m \u001B[43msolve_sat\u001B[49m\u001B[43m(\u001B[49m\u001B[43mvar_count\u001B[49m\u001B[43m \u001B[49m\u001B[38;5;241;43m-\u001B[39;49m\u001B[43m \u001B[49m\u001B[38;5;241;43m1\u001B[39;49m\u001B[43m,\u001B[49m\u001B[43m \u001B[49m\u001B[43mvalues\u001B[49m\u001B[43m \u001B[49m\u001B[38;5;241;43m+\u001B[39;49m\u001B[43m \u001B[49m\u001B[38;5;124;43m'\u001B[39;49m\u001B[38;5;124;43m1\u001B[39;49m\u001B[38;5;124;43m'\u001B[39;49m\u001B[43m)\u001B[49m\n\u001B[0;32m     36\u001B[0m     \u001B[38;5;28;01mif\u001B[39;00m with_true \u001B[38;5;129;01mis\u001B[39;00m \u001B[38;5;129;01mnot\u001B[39;00m \u001B[38;5;28;01mNone\u001B[39;00m:\n\u001B[0;32m     37\u001B[0m         \u001B[38;5;28;01mreturn\u001B[39;00m with_true\n",
      "    \u001B[1;31m[... skipping similar frames: solve_sat at line 35 (25 times)]\u001B[0m\n",
      "Cell \u001B[1;32mIn[1], line 38\u001B[0m, in \u001B[0;36msolve_sat\u001B[1;34m(var_count, values)\u001B[0m\n\u001B[0;32m     36\u001B[0m \u001B[38;5;28;01mif\u001B[39;00m with_true \u001B[38;5;129;01mis\u001B[39;00m \u001B[38;5;129;01mnot\u001B[39;00m \u001B[38;5;28;01mNone\u001B[39;00m:\n\u001B[0;32m     37\u001B[0m     \u001B[38;5;28;01mreturn\u001B[39;00m with_true\n\u001B[1;32m---> 38\u001B[0m with_false \u001B[38;5;241m=\u001B[39m \u001B[43msolve_sat\u001B[49m\u001B[43m(\u001B[49m\u001B[43mvar_count\u001B[49m\u001B[43m \u001B[49m\u001B[38;5;241;43m-\u001B[39;49m\u001B[43m \u001B[49m\u001B[38;5;241;43m1\u001B[39;49m\u001B[43m,\u001B[49m\u001B[43m \u001B[49m\u001B[43mvalues\u001B[49m\u001B[43m \u001B[49m\u001B[38;5;241;43m+\u001B[39;49m\u001B[43m \u001B[49m\u001B[38;5;124;43m'\u001B[39;49m\u001B[38;5;124;43m0\u001B[39;49m\u001B[38;5;124;43m'\u001B[39;49m\u001B[43m)\u001B[49m\n\u001B[0;32m     39\u001B[0m \u001B[38;5;28;01mif\u001B[39;00m with_false \u001B[38;5;129;01mis\u001B[39;00m \u001B[38;5;129;01mnot\u001B[39;00m \u001B[38;5;28;01mNone\u001B[39;00m:\n\u001B[0;32m     40\u001B[0m     \u001B[38;5;28;01mreturn\u001B[39;00m with_false\n",
      "    \u001B[1;31m[... skipping similar frames: solve_sat at line 35 (1 times)]\u001B[0m\n",
      "Cell \u001B[1;32mIn[1], line 38\u001B[0m, in \u001B[0;36msolve_sat\u001B[1;34m(var_count, values)\u001B[0m\n\u001B[0;32m     36\u001B[0m \u001B[38;5;28;01mif\u001B[39;00m with_true \u001B[38;5;129;01mis\u001B[39;00m \u001B[38;5;129;01mnot\u001B[39;00m \u001B[38;5;28;01mNone\u001B[39;00m:\n\u001B[0;32m     37\u001B[0m     \u001B[38;5;28;01mreturn\u001B[39;00m with_true\n\u001B[1;32m---> 38\u001B[0m with_false \u001B[38;5;241m=\u001B[39m \u001B[43msolve_sat\u001B[49m\u001B[43m(\u001B[49m\u001B[43mvar_count\u001B[49m\u001B[43m \u001B[49m\u001B[38;5;241;43m-\u001B[39;49m\u001B[43m \u001B[49m\u001B[38;5;241;43m1\u001B[39;49m\u001B[43m,\u001B[49m\u001B[43m \u001B[49m\u001B[43mvalues\u001B[49m\u001B[43m \u001B[49m\u001B[38;5;241;43m+\u001B[39;49m\u001B[43m \u001B[49m\u001B[38;5;124;43m'\u001B[39;49m\u001B[38;5;124;43m0\u001B[39;49m\u001B[38;5;124;43m'\u001B[39;49m\u001B[43m)\u001B[49m\n\u001B[0;32m     39\u001B[0m \u001B[38;5;28;01mif\u001B[39;00m with_false \u001B[38;5;129;01mis\u001B[39;00m \u001B[38;5;129;01mnot\u001B[39;00m \u001B[38;5;28;01mNone\u001B[39;00m:\n\u001B[0;32m     40\u001B[0m     \u001B[38;5;28;01mreturn\u001B[39;00m with_false\n",
      "    \u001B[1;31m[... skipping similar frames: solve_sat at line 38 (8 times), solve_sat at line 35 (6 times)]\u001B[0m\n",
      "Cell \u001B[1;32mIn[1], line 38\u001B[0m, in \u001B[0;36msolve_sat\u001B[1;34m(var_count, values)\u001B[0m\n\u001B[0;32m     36\u001B[0m \u001B[38;5;28;01mif\u001B[39;00m with_true \u001B[38;5;129;01mis\u001B[39;00m \u001B[38;5;129;01mnot\u001B[39;00m \u001B[38;5;28;01mNone\u001B[39;00m:\n\u001B[0;32m     37\u001B[0m     \u001B[38;5;28;01mreturn\u001B[39;00m with_true\n\u001B[1;32m---> 38\u001B[0m with_false \u001B[38;5;241m=\u001B[39m \u001B[43msolve_sat\u001B[49m\u001B[43m(\u001B[49m\u001B[43mvar_count\u001B[49m\u001B[43m \u001B[49m\u001B[38;5;241;43m-\u001B[39;49m\u001B[43m \u001B[49m\u001B[38;5;241;43m1\u001B[39;49m\u001B[43m,\u001B[49m\u001B[43m \u001B[49m\u001B[43mvalues\u001B[49m\u001B[43m \u001B[49m\u001B[38;5;241;43m+\u001B[39;49m\u001B[43m \u001B[49m\u001B[38;5;124;43m'\u001B[39;49m\u001B[38;5;124;43m0\u001B[39;49m\u001B[38;5;124;43m'\u001B[39;49m\u001B[43m)\u001B[49m\n\u001B[0;32m     39\u001B[0m \u001B[38;5;28;01mif\u001B[39;00m with_false \u001B[38;5;129;01mis\u001B[39;00m \u001B[38;5;129;01mnot\u001B[39;00m \u001B[38;5;28;01mNone\u001B[39;00m:\n\u001B[0;32m     40\u001B[0m     \u001B[38;5;28;01mreturn\u001B[39;00m with_false\n",
      "    \u001B[1;31m[... skipping similar frames: solve_sat at line 35 (4 times)]\u001B[0m\n",
      "Cell \u001B[1;32mIn[1], line 35\u001B[0m, in \u001B[0;36msolve_sat\u001B[1;34m(var_count, values)\u001B[0m\n\u001B[0;32m     33\u001B[0m         \u001B[38;5;28;01mreturn\u001B[39;00m \u001B[38;5;28;01mNone\u001B[39;00m\n\u001B[0;32m     34\u001B[0m \u001B[38;5;28;01melse\u001B[39;00m:\n\u001B[1;32m---> 35\u001B[0m     with_true \u001B[38;5;241m=\u001B[39m \u001B[43msolve_sat\u001B[49m\u001B[43m(\u001B[49m\u001B[43mvar_count\u001B[49m\u001B[43m \u001B[49m\u001B[38;5;241;43m-\u001B[39;49m\u001B[43m \u001B[49m\u001B[38;5;241;43m1\u001B[39;49m\u001B[43m,\u001B[49m\u001B[43m \u001B[49m\u001B[43mvalues\u001B[49m\u001B[43m \u001B[49m\u001B[38;5;241;43m+\u001B[39;49m\u001B[43m \u001B[49m\u001B[38;5;124;43m'\u001B[39;49m\u001B[38;5;124;43m1\u001B[39;49m\u001B[38;5;124;43m'\u001B[39;49m\u001B[43m)\u001B[49m\n\u001B[0;32m     36\u001B[0m     \u001B[38;5;28;01mif\u001B[39;00m with_true \u001B[38;5;129;01mis\u001B[39;00m \u001B[38;5;129;01mnot\u001B[39;00m \u001B[38;5;28;01mNone\u001B[39;00m:\n\u001B[0;32m     37\u001B[0m         \u001B[38;5;28;01mreturn\u001B[39;00m with_true\n",
      "Cell \u001B[1;32mIn[1], line 30\u001B[0m, in \u001B[0;36msolve_sat\u001B[1;34m(var_count, values)\u001B[0m\n\u001B[0;32m     28\u001B[0m \u001B[38;5;28;01mdef\u001B[39;00m \u001B[38;5;21msolve_sat\u001B[39m(var_count, values\u001B[38;5;241m=\u001B[39m\u001B[38;5;124m'\u001B[39m\u001B[38;5;124m'\u001B[39m):\n\u001B[0;32m     29\u001B[0m     \u001B[38;5;28;01mif\u001B[39;00m var_count \u001B[38;5;241m==\u001B[39m \u001B[38;5;241m0\u001B[39m:\n\u001B[1;32m---> 30\u001B[0m         \u001B[38;5;28;01mif\u001B[39;00m \u001B[43mcheck_satisfiability\u001B[49m\u001B[43m(\u001B[49m\u001B[43mvalues\u001B[49m\u001B[43m)\u001B[49m:\n\u001B[0;32m     31\u001B[0m             \u001B[38;5;28;01mreturn\u001B[39;00m values\n\u001B[0;32m     32\u001B[0m         \u001B[38;5;28;01melse\u001B[39;00m:\n",
      "Cell \u001B[1;32mIn[1], line 16\u001B[0m, in \u001B[0;36mcheck_satisfiability\u001B[1;34m(values)\u001B[0m\n\u001B[0;32m     14\u001B[0m \u001B[38;5;28;01mfor\u001B[39;00m clause \u001B[38;5;129;01min\u001B[39;00m sat:\n\u001B[0;32m     15\u001B[0m     \u001B[38;5;28;01mfor\u001B[39;00m var \u001B[38;5;129;01min\u001B[39;00m clause:\n\u001B[1;32m---> 16\u001B[0m         value \u001B[38;5;241m=\u001B[39m values[\u001B[38;5;28;43mabs\u001B[39;49m\u001B[43m(\u001B[49m\u001B[43mvar\u001B[49m\u001B[43m)\u001B[49m \u001B[38;5;241m-\u001B[39m \u001B[38;5;241m1\u001B[39m]\n\u001B[0;32m     17\u001B[0m         value \u001B[38;5;241m=\u001B[39m \u001B[38;5;28;01mTrue\u001B[39;00m \u001B[38;5;28;01mif\u001B[39;00m value \u001B[38;5;241m==\u001B[39m \u001B[38;5;124m'\u001B[39m\u001B[38;5;124m1\u001B[39m\u001B[38;5;124m'\u001B[39m \u001B[38;5;28;01melse\u001B[39;00m \u001B[38;5;28;01mFalse\u001B[39;00m\n\u001B[0;32m     18\u001B[0m         value \u001B[38;5;241m=\u001B[39m value \u001B[38;5;28;01mif\u001B[39;00m var \u001B[38;5;241m>\u001B[39m \u001B[38;5;241m0\u001B[39m \u001B[38;5;28;01melse\u001B[39;00m \u001B[38;5;129;01mnot\u001B[39;00m value\n",
      "\u001B[1;31mKeyboardInterrupt\u001B[0m: "
     ]
    }
   ],
   "source": [
    "load_sat('Data/SAT_50Var.mat')\n",
    "result = solve_sat(50)\n",
    "print_result(result)"
   ]
  },
  {
   "cell_type": "code",
   "execution_count": null,
   "id": "e42bcc7a9e2c16c6",
   "metadata": {},
   "outputs": [],
   "source": [
    "load_sat('Data/SAT_100Var.mat')\n",
    "result = solve_sat(100)\n",
    "print_result(result)"
   ]
  }
 ],
 "metadata": {
  "kernelspec": {
   "display_name": "Python 3 (ipykernel)",
   "language": "python",
   "name": "python3"
  },
  "language_info": {
   "codemirror_mode": {
    "name": "ipython",
    "version": 3
   },
   "file_extension": ".py",
   "mimetype": "text/x-python",
   "name": "python",
   "nbconvert_exporter": "python",
   "pygments_lexer": "ipython3",
   "version": "3.12.0"
  }
 },
 "nbformat": 4,
 "nbformat_minor": 5
}
