{
 "cells": [
  {
   "cell_type": "markdown",
   "id": "67832d25",
   "metadata": {
    "collapsed": false,
    "jupyter": {
     "outputs_hidden": false
    },
    "pycharm": {
     "name": "#%% md\n"
    }
   },
   "source": [
    "# Seyed Mohammad Amin Atyabi - 830402014 - HW 3"
   ]
  },
  {
   "metadata": {},
   "cell_type": "markdown",
   "source": [
    "با توجه به پیاده سازی زیر، با هر اجرا، پاسخ یکسانی تولید خواهد شد چراکه مسیر پیمایش شده در هر بار اجرا یکسان است.\n",
    "\n",
    "به طور کلی یک مساله $SAT$ لزوما دارای جواب نیست. برای مثال در $1-SAT$ زیر هیچ جوابی وجود ندارد.\n",
    "\n",
    "$$ (A) \\wedge (\\sim A) $$"
   ],
   "id": "f0c8abf0e355e91a"
  },
  {
   "cell_type": "code",
   "execution_count": 1,
   "id": "a284bfb833407d27",
   "metadata": {
    "ExecuteTime": {
     "end_time": "2024-04-16T20:48:48.966239Z",
     "start_time": "2024-04-16T20:48:48.813104Z"
    },
    "collapsed": false,
    "jupyter": {
     "outputs_hidden": false
    }
   },
   "outputs": [],
   "source": [
    "from scipy import io as sio\n",
    "\n",
    "sat = None\n",
    "\n",
    "\n",
    "def load_sat(name):\n",
    "    node_connections = sio.loadmat(name)\n",
    "    global sat\n",
    "    sat = node_connections.get('P')\n",
    "\n",
    "\n",
    "def check_satisfiability(values):\n",
    "    sum_satisfied = 0\n",
    "    for clause in sat:\n",
    "        for var in clause:\n",
    "            value = values[abs(var) - 1]\n",
    "            value = True if value == '1' else False\n",
    "            value = value if var > 0 else not value\n",
    "            if value:\n",
    "                sum_satisfied += 1\n",
    "                break\n",
    "    if sum_satisfied == len(sat):\n",
    "        return True\n",
    "    else:\n",
    "        return False\n",
    "\n",
    "\n",
    "def solve_sat(var_count, values=''):\n",
    "    if var_count == 0:\n",
    "        if check_satisfiability(values):\n",
    "            return values\n",
    "        else:\n",
    "            return None\n",
    "    else:\n",
    "        with_true = solve_sat(var_count - 1, values + '1')\n",
    "        if with_true is not None:\n",
    "            return with_true\n",
    "        with_false = solve_sat(var_count - 1, values + '0')\n",
    "        if with_false is not None:\n",
    "            return with_false\n",
    "\n",
    "\n",
    "def print_result(res):\n",
    "    if res is None:\n",
    "        print('Not satisfiable')\n",
    "    else:\n",
    "        for v in range(len(res)):\n",
    "            print(f'{v + 1}: {True if res[v] == str(1) else False}')"
   ]
  },
  {
   "cell_type": "code",
   "execution_count": 2,
   "id": "bdab6db675189f97",
   "metadata": {
    "ExecuteTime": {
     "end_time": "2024-04-16T20:49:03.668490Z",
     "start_time": "2024-04-16T20:48:52.241395Z"
    }
   },
   "outputs": [
    {
     "name": "stdout",
     "output_type": "stream",
     "text": [
      "1: True\n",
      "2: True\n",
      "3: True\n",
      "4: True\n",
      "5: False\n",
      "6: True\n",
      "7: True\n",
      "8: False\n",
      "9: False\n",
      "10: True\n",
      "11: False\n",
      "12: True\n",
      "13: False\n",
      "14: True\n",
      "15: False\n",
      "16: True\n",
      "17: True\n",
      "18: False\n",
      "19: True\n",
      "20: True\n"
     ]
    }
   ],
   "source": [
    "load_sat('Data/SAT_20Var.mat')\n",
    "result = solve_sat(20)\n",
    "print_result(result)"
   ]
  },
  {
   "cell_type": "code",
   "execution_count": null,
   "id": "dac664b52f7ec63b",
   "metadata": {
    "ExecuteTime": {
     "start_time": "2024-04-16T20:49:06.823884Z"
    },
    "jupyter": {
     "is_executing": true
    }
   },
   "outputs": [],
   "source": [
    "load_sat('Data/SAT_50Var.mat')\n",
    "result = solve_sat(50)\n",
    "print_result(result)"
   ]
  },
  {
   "cell_type": "code",
   "execution_count": null,
   "id": "e42bcc7a9e2c16c6",
   "metadata": {},
   "outputs": [],
   "source": [
    "load_sat('Data/SAT_100Var.mat')\n",
    "result = solve_sat(100)\n",
    "print_result(result)"
   ]
  }
 ],
 "metadata": {
  "kernelspec": {
   "display_name": "Python 3 (ipykernel)",
   "language": "python",
   "name": "python3"
  },
  "language_info": {
   "codemirror_mode": {
    "name": "ipython",
    "version": 3
   },
   "file_extension": ".py",
   "mimetype": "text/x-python",
   "name": "python",
   "nbconvert_exporter": "python",
   "pygments_lexer": "ipython3",
   "version": "3.12.0"
  }
 },
 "nbformat": 4,
 "nbformat_minor": 5
}
