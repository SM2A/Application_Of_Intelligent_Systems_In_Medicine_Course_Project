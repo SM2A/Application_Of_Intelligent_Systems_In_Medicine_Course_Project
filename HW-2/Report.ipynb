{
 "cells": [
  {
   "cell_type": "markdown",
   "source": [
    "# Seyed Mohammad Amin Atyabi - 830402014 - HW 2"
   ],
   "metadata": {
    "collapsed": false,
    "pycharm": {
     "name": "#%% md\n"
    }
   }
  },
  {
   "cell_type": "code",
   "execution_count": null,
   "outputs": [],
   "source": [
    "from copy import deepcopy\n",
    "\n",
    "EMPTY = 0\n",
    "\n",
    "\n",
    "def next_state(current):\n",
    "    new_states = []\n",
    "    for i in range(len(current)):\n",
    "        for j in range(len(current[i])):\n",
    "            if j + 1 < len(current[i]) and current[i][j + 1] == EMPTY:\n",
    "                new_state = deepcopy(current)\n",
    "                new_state[i][j] = EMPTY\n",
    "                new_state[i][j + 1] = current[i][j]\n",
    "                new_states.append(new_state)\n",
    "            elif j - 1 > 0 and current[i][j - 1] == EMPTY:\n",
    "                new_state = deepcopy(current)\n",
    "                new_state[i][j] = EMPTY\n",
    "                new_state[i][j - 1] = current[i][j]\n",
    "                new_states.append(new_state)\n",
    "            elif i + 1 < len(current[j]) and current[i + 1][j] == EMPTY:\n",
    "                new_state = deepcopy(current)\n",
    "                new_state[i][j] = EMPTY\n",
    "                new_state[i + 1][j] = current[i][j]\n",
    "                new_states.append(new_state)\n",
    "            elif i - 1 > 0 and current[i - 1][j] == EMPTY:\n",
    "                new_state = deepcopy(current)\n",
    "                new_state[i][j] = EMPTY\n",
    "                new_state[i - 1][j] = current[i][j]\n",
    "                new_states.append(new_state)\n",
    "    return new_states\n",
    "\n",
    "\n",
    "def print_state(state):\n",
    "    for i in state:\n",
    "        print(str(i).replace('[', '').replace(']', '').replace(',', ' |').replace('EMPTY', ' '))\n",
    "\n",
    "\n",
    "def find_index(state, number):\n",
    "    for i in range(len(state)):\n",
    "        for j in range(len(state[i])):\n",
    "            if state[i][j] == number:\n",
    "                return i, j\n",
    "    return -1, -1\n",
    "\n",
    "\n",
    "def manhattan_distance(state_1, state_2):\n",
    "    distance = 0\n",
    "    for i in range(len(state_1)):\n",
    "        for j in range(len(state_1[i])):\n",
    "            if state_1[i][j] != EMPTY:\n",
    "                dis_i, dis_j = find_index(state_2, state_1[i][j])\n",
    "                distance += (abs(i - dis_i) + abs(j - dis_j))\n",
    "    return distance\n",
    "\n",
    "state_1 = [\n",
    "    [1, 2, 3],\n",
    "    [4, 5, 6],\n",
    "    [7, 8, 0]\n",
    "]\n",
    "\n",
    "print_state(state_1)\n",
    "next = next_state(state_1)\n",
    "print()\n",
    "print()\n",
    "for n in next:\n",
    "    print_state(n)\n",
    "    print()\n",
    "    print()\n",
    "\n",
    "state_2 = [\n",
    "    [1, 2, 3],\n",
    "    [4, 0, 5],\n",
    "    [6, 7, 8]\n",
    "]\n",
    "\n",
    "print_state(state_2)\n",
    "next = next_state(state_2)\n",
    "print()\n",
    "print()\n",
    "for n in next:\n",
    "    print_state(n)\n",
    "    print()\n",
    "    print()\n",
    "\n",
    "print()\n",
    "print()\n",
    "print(manhattan_distance(state_1, state_2))"
   ],
   "metadata": {
    "collapsed": false,
    "pycharm": {
     "name": "#%%\n"
    }
   }
  }
 ],
 "metadata": {
  "kernelspec": {
   "display_name": "Python 3",
   "language": "python",
   "name": "python3"
  },
  "language_info": {
   "codemirror_mode": {
    "name": "ipython",
    "version": 2
   },
   "file_extension": ".py",
   "mimetype": "text/x-python",
   "name": "python",
   "nbconvert_exporter": "python",
   "pygments_lexer": "ipython2",
   "version": "2.7.6"
  }
 },
 "nbformat": 4,
 "nbformat_minor": 5
}