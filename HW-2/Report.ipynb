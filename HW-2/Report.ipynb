{
 "cells": [
  {
   "cell_type": "markdown",
   "source": [
    "# Seyed Mohammad Amin Atyabi - 830402014 - HW 2"
   ],
   "metadata": {
    "collapsed": false,
    "pycharm": {
     "name": "#%% md\n"
    }
   }
  },
  {
   "cell_type": "code",
   "execution_count": null,
   "outputs": [],
   "source": [
    "from copy import deepcopy\n",
    "\n",
    "\n",
    "def next_state(current):\n",
    "    new_states = []\n",
    "    for i in range(len(current)):\n",
    "        for j in range(len(current[i])):\n",
    "            if j + 1 < len(current[i]) and current[i][j + 1] == 0:\n",
    "                new_state = deepcopy(current)\n",
    "                new_state[i][j] = 0\n",
    "                new_state[i][j + 1] = current[i][j]\n",
    "                new_states.append(new_state)\n",
    "            elif j - 1 > 0 and current[i][j - 1] == 0:\n",
    "                new_state = deepcopy(current)\n",
    "                new_state[i][j] = 0\n",
    "                new_state[i][j - 1] = current[i][j]\n",
    "                new_states.append(new_state)\n",
    "            elif i + 1 < len(current[j]) and current[i + 1][j] == 0:\n",
    "                new_state = deepcopy(current)\n",
    "                new_state[i][j] = 0\n",
    "                new_state[i + 1][j] = current[i][j]\n",
    "                new_states.append(new_state)\n",
    "            elif i - 1 > 0 and current[i - 1][j] == 0:\n",
    "                new_state = deepcopy(current)\n",
    "                new_state[i][j] = 0\n",
    "                new_state[i - 1][j] = current[i][j]\n",
    "                new_states.append(new_state)\n",
    "    return new_states\n",
    "\n",
    "\n",
    "def print_state(state):\n",
    "    for i in state:\n",
    "        print(str(i).replace('[', '').replace(']', '').replace(',', ' |').replace('0', ' '))\n",
    "\n",
    "\n",
    "state = [\n",
    "    [1, 2, 3],\n",
    "    [4, 5, 6],\n",
    "    [7, 8, 0]\n",
    "]\n",
    "\n",
    "print_state(state)\n",
    "next = next_state(state)\n",
    "print()\n",
    "print()\n",
    "for n in next:\n",
    "    print_state(n)\n",
    "    print()\n",
    "    print()\n",
    "\n",
    "state = [\n",
    "    [1, 2, 3],\n",
    "    [4, 0, 5],\n",
    "    [6, 7, 8]\n",
    "]\n",
    "\n",
    "print_state(state)\n",
    "next = next_state(state)\n",
    "print()\n",
    "print()\n",
    "for n in next:\n",
    "    print_state(n)\n",
    "    print()\n",
    "    print()"
   ],
   "metadata": {
    "collapsed": false,
    "pycharm": {
     "name": "#%%\n"
    }
   }
  }
 ],
 "metadata": {
  "kernelspec": {
   "display_name": "Python 3",
   "language": "python",
   "name": "python3"
  },
  "language_info": {
   "codemirror_mode": {
    "name": "ipython",
    "version": 2
   },
   "file_extension": ".py",
   "mimetype": "text/x-python",
   "name": "python",
   "nbconvert_exporter": "python",
   "pygments_lexer": "ipython2",
   "version": "2.7.6"
  }
 },
 "nbformat": 4,
 "nbformat_minor": 5
}