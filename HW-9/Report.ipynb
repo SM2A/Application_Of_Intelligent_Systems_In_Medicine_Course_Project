{
 "cells": [
  {
   "cell_type": "markdown",
   "id": "38cfc71edb2f9506",
   "metadata": {},
   "source": "# Seyed Mohammad Amin Atyabi - 830402014 - HW 9"
  },
  {
   "metadata": {},
   "cell_type": "markdown",
   "source": [
    "در این تمرین قرار است مجموعه داده ای  که در اختیارمان قرار گرفته است را با جدا ساز خطی که ضرایط خط آن نیز به ما داده شده است جدا سازی کنیم. سپس در مورد اینکه آیا این جداساز مناسب است یا خیر بحث میکنیم.\n",
    "\n",
    "در ابتدا لازم است کلاس داده های خود را مناسب با این تمرین تغییر دهیم. دسته عدم بیماری را برابر با -1 و دسته بیماری را برابر با 1 در نظر میگیرم. سپس با استفاده از رابطه زیر، هر نمونه را پیشبینی میکنیم.\n",
    "\n",
    "$$  prediction = \\sum_{i=1}^{n} w_ix_i $$\n",
    "\n",
    "اگر در رابطه بالا $ prediction > 0 $ نمونه به کلاس 1 و در غیر این صورت به کلاس -1 تعلق دارد"
   ],
   "id": "e9327a758620495"
  },
  {
   "metadata": {
    "ExecuteTime": {
     "end_time": "2024-05-27T20:57:35.373822Z",
     "start_time": "2024-05-27T20:57:34.880413Z"
    }
   },
   "cell_type": "code",
   "source": [
    "import pandas\n",
    "from scipy import io as sio\n",
    "\n",
    "columns = [\n",
    "    'AGE',\n",
    "    'ON THYROXINE',\n",
    "    'TSH MEASURED',\n",
    "    'TSH',\n",
    "    'T3',\n",
    "    'TT4 MEASURED',\n",
    "    'TT4',\n",
    "    'SICKNESS'\n",
    "]\n",
    "\n",
    "\n",
    "def predict_label(w, data, b):\n",
    "    error = 0\n",
    "    for _, d in data.iterrows():\n",
    "        predict = b\n",
    "        for f in range(data.columns.size - 1):\n",
    "            predict += d.iloc[f] * w[f]\n",
    "        predict = 1 if predict > 0 else -1\n",
    "        if predict != d['SICKNESS']: error += 1\n",
    "\n",
    "    return error"
   ],
   "id": "47a46c2d1a9a201b",
   "outputs": [],
   "execution_count": 1
  },
  {
   "metadata": {
    "ExecuteTime": {
     "end_time": "2024-05-27T20:57:35.384978Z",
     "start_time": "2024-05-27T20:57:35.374826Z"
    }
   },
   "cell_type": "code",
   "source": [
    "data = pandas.DataFrame(sio.loadmat('Data/Thyroid.mat').get('Data'), columns=columns, dtype=float)\n",
    "data['SICKNESS'] = data['SICKNESS'].apply(lambda x: 1 if x >= 1 else -1)\n",
    "\n",
    "w = [0.048, -0.021, 0.044, 0.995, 0, 0.035, -0.061]\n",
    "\n",
    "print(f'Error= {predict_label(w, data, 0)}')"
   ],
   "id": "805db91a23a28310",
   "outputs": [
    {
     "name": "stdout",
     "output_type": "stream",
     "text": [
      "Error= 5\n"
     ]
    }
   ],
   "execution_count": 2
  },
  {
   "metadata": {
    "ExecuteTime": {
     "end_time": "2024-05-27T20:57:35.393035Z",
     "start_time": "2024-05-27T20:57:35.385982Z"
    }
   },
   "cell_type": "code",
   "source": "print(f'Error= {predict_label(w, data, 0.021)}')",
   "id": "8488a5c354f7ab7e",
   "outputs": [
    {
     "name": "stdout",
     "output_type": "stream",
     "text": [
      "Error= 7\n"
     ]
    }
   ],
   "execution_count": 3
  },
  {
   "metadata": {},
   "cell_type": "markdown",
   "source": [
    "شاید به نظر برای تشخیص بیماری جداساز خطی بسیار ساده انگارانه به نظر آید، اما با توجه به تعداد خطا بدست آمده که بین 5 و 7 درصد است، شاهد عملکرد بسیار خوب این این جداساز هستیم. اما برای مناسب بودن یا نبودن این جداساز نیاز به اطلاعاتی در زمینه بیماری، هزینه درمان، میزان وخامت و موارد دیگر داریم.\n",
    "این موارد به همراه معیارهای دیگر مانند $ precision $ و $ recall $ کمک میکند که بتوانیم میزان مناسب بودن این جداساز را اندازه گیری کنیم."
   ],
   "id": "4f97e921e0ad01f9"
  }
 ],
 "metadata": {
  "kernelspec": {
   "display_name": "Python 3 (ipykernel)",
   "language": "python",
   "name": "python3"
  },
  "language_info": {
   "codemirror_mode": {
    "name": "ipython",
    "version": 3
   },
   "file_extension": ".py",
   "mimetype": "text/x-python",
   "name": "python",
   "nbconvert_exporter": "python",
   "pygments_lexer": "ipython3",
   "version": "3.12.0"
  }
 },
 "nbformat": 4,
 "nbformat_minor": 5
}
