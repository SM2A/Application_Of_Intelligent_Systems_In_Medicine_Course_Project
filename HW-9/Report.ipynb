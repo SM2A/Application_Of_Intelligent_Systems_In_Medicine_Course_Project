{
 "cells": [
  {
   "cell_type": "markdown",
   "id": "38cfc71edb2f9506",
   "metadata": {},
   "source": "# Seyed Mohammad Amin Atyabi - 830402014 - HW 9"
  },
  {
   "metadata": {},
   "cell_type": "code",
   "outputs": [],
   "execution_count": null,
   "source": [
    "import pandas\n",
    "from scipy import io as sio\n",
    "\n",
    "w = [0.048, -0.021, 0.044, 0.995, 0, 0.035, -0.061]\n",
    "\n",
    "columns = [\n",
    "    'AGE',\n",
    "    'ON THYROXINE',\n",
    "    'TSH MEASURED',\n",
    "    'TSH',\n",
    "    'T3',\n",
    "    'TT4 MEASURED',\n",
    "    'TT4',\n",
    "    'SICKNESS'\n",
    "]\n",
    "\n",
    "data = pandas.DataFrame(sio.loadmat('Data/Thyroid.mat').get('Data'), columns=columns, dtype=float)\n",
    "\n",
    "data['SICKNESS'] = data['SICKNESS'].apply(lambda x: 1 if x >= 1 else -1)\n",
    "\n",
    "\n",
    "def predict_label(w, data):\n",
    "    error = 0\n",
    "    for _, d in data.iterrows():\n",
    "        predict = 0.021\n",
    "        for f in range(data.columns.size - 1):\n",
    "            predict += d.iloc[f] * w[f]\n",
    "        print(f'{d['SICKNESS']} ** {predict}')\n",
    "        predict = 1 if predict > 0 else -1\n",
    "        if predict != d['SICKNESS']: error += 1\n",
    "\n",
    "\n",
    "    return error\n",
    "\n",
    "\n",
    "print(predict_label(w, data))"
   ],
   "id": "47a46c2d1a9a201b"
  }
 ],
 "metadata": {
  "kernelspec": {
   "display_name": "Python 3 (ipykernel)",
   "language": "python",
   "name": "python3"
  },
  "language_info": {
   "codemirror_mode": {
    "name": "ipython",
    "version": 3
   },
   "file_extension": ".py",
   "mimetype": "text/x-python",
   "name": "python",
   "nbconvert_exporter": "python",
   "pygments_lexer": "ipython3",
   "version": "3.12.0"
  }
 },
 "nbformat": 4,
 "nbformat_minor": 5
}
